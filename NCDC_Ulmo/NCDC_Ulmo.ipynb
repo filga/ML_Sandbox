{
 "cells": [
  {
   "cell_type": "code",
   "execution_count": 14,
   "metadata": {
    "collapsed": false
   },
   "outputs": [
    {
     "name": "stdout",
     "output_type": "stream",
     "text": [
      "Populating the interactive namespace from numpy and matplotlib\n"
     ]
    }
   ],
   "source": [
    "%pylab inline"
   ]
  },
  {
   "cell_type": "code",
   "execution_count": 15,
   "metadata": {
    "collapsed": true
   },
   "outputs": [],
   "source": [
    "import ulmo\n",
    "import pandas"
   ]
  },
  {
   "cell_type": "code",
   "execution_count": 16,
   "metadata": {
    "collapsed": false
   },
   "outputs": [],
   "source": [
    "st = ulmo.ncdc.ghcn_daily.get_stations(country='US', as_dataframe=True, elements ='AWND')"
   ]
  },
  {
   "cell_type": "code",
   "execution_count": 17,
   "metadata": {
    "collapsed": false
   },
   "outputs": [
    {
     "data": {
      "text/html": [
       "<div>\n",
       "<table border=\"1\" class=\"dataframe\">\n",
       "  <thead>\n",
       "    <tr style=\"text-align: right;\">\n",
       "      <th></th>\n",
       "      <th>country</th>\n",
       "      <th>network</th>\n",
       "      <th>network_id</th>\n",
       "      <th>latitude</th>\n",
       "      <th>longitude</th>\n",
       "      <th>elevation</th>\n",
       "      <th>state</th>\n",
       "      <th>name</th>\n",
       "      <th>gsn_flag</th>\n",
       "      <th>hcn_flag</th>\n",
       "      <th>wm_oid</th>\n",
       "      <th>id</th>\n",
       "    </tr>\n",
       "    <tr>\n",
       "      <th>id</th>\n",
       "      <th></th>\n",
       "      <th></th>\n",
       "      <th></th>\n",
       "      <th></th>\n",
       "      <th></th>\n",
       "      <th></th>\n",
       "      <th></th>\n",
       "      <th></th>\n",
       "      <th></th>\n",
       "      <th></th>\n",
       "      <th></th>\n",
       "      <th></th>\n",
       "    </tr>\n",
       "  </thead>\n",
       "  <tbody>\n",
       "    <tr>\n",
       "      <th>USC00045983</th>\n",
       "      <td>US</td>\n",
       "      <td>C</td>\n",
       "      <td>00045983</td>\n",
       "      <td>41.3217</td>\n",
       "      <td>-122.3172</td>\n",
       "      <td>1102.5</td>\n",
       "      <td>CA</td>\n",
       "      <td>MT SHASTA</td>\n",
       "      <td>NaN</td>\n",
       "      <td>HCN</td>\n",
       "      <td>NaN</td>\n",
       "      <td>USC00045983</td>\n",
       "    </tr>\n",
       "    <tr>\n",
       "      <th>USC00050109</th>\n",
       "      <td>US</td>\n",
       "      <td>C</td>\n",
       "      <td>00050109</td>\n",
       "      <td>40.1550</td>\n",
       "      <td>-103.1417</td>\n",
       "      <td>1383.8</td>\n",
       "      <td>CO</td>\n",
       "      <td>AKRON 4 E</td>\n",
       "      <td>NaN</td>\n",
       "      <td>NaN</td>\n",
       "      <td>NaN</td>\n",
       "      <td>USC00050109</td>\n",
       "    </tr>\n",
       "    <tr>\n",
       "      <th>USC00051996</th>\n",
       "      <td>US</td>\n",
       "      <td>C</td>\n",
       "      <td>00051996</td>\n",
       "      <td>40.8600</td>\n",
       "      <td>-102.8031</td>\n",
       "      <td>1130.5</td>\n",
       "      <td>CO</td>\n",
       "      <td>CROOK</td>\n",
       "      <td>NaN</td>\n",
       "      <td>NaN</td>\n",
       "      <td>NaN</td>\n",
       "      <td>USC00051996</td>\n",
       "    </tr>\n",
       "    <tr>\n",
       "      <th>USC00052631</th>\n",
       "      <td>US</td>\n",
       "      <td>C</td>\n",
       "      <td>00052631</td>\n",
       "      <td>39.3811</td>\n",
       "      <td>-104.6292</td>\n",
       "      <td>2028.1</td>\n",
       "      <td>CO</td>\n",
       "      <td>ELIZABETH 2NW</td>\n",
       "      <td>NaN</td>\n",
       "      <td>NaN</td>\n",
       "      <td>NaN</td>\n",
       "      <td>USC00052631</td>\n",
       "    </tr>\n",
       "    <tr>\n",
       "      <th>USC00052947</th>\n",
       "      <td>US</td>\n",
       "      <td>C</td>\n",
       "      <td>00052947</td>\n",
       "      <td>40.6483</td>\n",
       "      <td>-102.8594</td>\n",
       "      <td>1297.2</td>\n",
       "      <td>CO</td>\n",
       "      <td>FLEMING 3SW</td>\n",
       "      <td>NaN</td>\n",
       "      <td>NaN</td>\n",
       "      <td>NaN</td>\n",
       "      <td>USC00052947</td>\n",
       "    </tr>\n",
       "  </tbody>\n",
       "</table>\n",
       "</div>"
      ],
      "text/plain": [
       "            country network network_id  latitude  longitude  elevation state  \\\n",
       "id                                                                             \n",
       "USC00045983      US       C   00045983   41.3217  -122.3172     1102.5    CA   \n",
       "USC00050109      US       C   00050109   40.1550  -103.1417     1383.8    CO   \n",
       "USC00051996      US       C   00051996   40.8600  -102.8031     1130.5    CO   \n",
       "USC00052631      US       C   00052631   39.3811  -104.6292     2028.1    CO   \n",
       "USC00052947      US       C   00052947   40.6483  -102.8594     1297.2    CO   \n",
       "\n",
       "                      name gsn_flag hcn_flag wm_oid           id  \n",
       "id                                                                \n",
       "USC00045983      MT SHASTA      NaN      HCN    NaN  USC00045983  \n",
       "USC00050109      AKRON 4 E      NaN      NaN    NaN  USC00050109  \n",
       "USC00051996          CROOK      NaN      NaN    NaN  USC00051996  \n",
       "USC00052631  ELIZABETH 2NW      NaN      NaN    NaN  USC00052631  \n",
       "USC00052947    FLEMING 3SW      NaN      NaN    NaN  USC00052947  "
      ]
     },
     "execution_count": 17,
     "metadata": {},
     "output_type": "execute_result"
    }
   ],
   "source": [
    "st.head()"
   ]
  },
  {
   "cell_type": "code",
   "execution_count": 18,
   "metadata": {
    "collapsed": false
   },
   "outputs": [
    {
     "data": {
      "text/html": [
       "<div>\n",
       "<table border=\"1\" class=\"dataframe\">\n",
       "  <thead>\n",
       "    <tr style=\"text-align: right;\">\n",
       "      <th></th>\n",
       "      <th>country</th>\n",
       "      <th>network</th>\n",
       "      <th>network_id</th>\n",
       "      <th>latitude</th>\n",
       "      <th>longitude</th>\n",
       "      <th>elevation</th>\n",
       "      <th>state</th>\n",
       "      <th>name</th>\n",
       "      <th>gsn_flag</th>\n",
       "      <th>hcn_flag</th>\n",
       "      <th>wm_oid</th>\n",
       "      <th>id</th>\n",
       "    </tr>\n",
       "    <tr>\n",
       "      <th>id</th>\n",
       "      <th></th>\n",
       "      <th></th>\n",
       "      <th></th>\n",
       "      <th></th>\n",
       "      <th></th>\n",
       "      <th></th>\n",
       "      <th></th>\n",
       "      <th></th>\n",
       "      <th></th>\n",
       "      <th></th>\n",
       "      <th></th>\n",
       "      <th></th>\n",
       "    </tr>\n",
       "  </thead>\n",
       "  <tbody>\n",
       "    <tr>\n",
       "      <th>USS0005L12S</th>\n",
       "      <td>US</td>\n",
       "      <td>S</td>\n",
       "      <td>0005L12S</td>\n",
       "      <td>38.29</td>\n",
       "      <td>-105.85</td>\n",
       "      <td>3267.5</td>\n",
       "      <td>CO</td>\n",
       "      <td>Hayden Pass</td>\n",
       "      <td>NaN</td>\n",
       "      <td>NaN</td>\n",
       "      <td>NaN</td>\n",
       "      <td>USS0005L12S</td>\n",
       "    </tr>\n",
       "  </tbody>\n",
       "</table>\n",
       "</div>"
      ],
      "text/plain": [
       "            country network network_id  latitude  longitude  elevation state  \\\n",
       "id                                                                             \n",
       "USS0005L12S      US       S   0005L12S     38.29    -105.85     3267.5    CO   \n",
       "\n",
       "                    name gsn_flag hcn_flag wm_oid           id  \n",
       "id                                                              \n",
       "USS0005L12S  Hayden Pass      NaN      NaN    NaN  USS0005L12S  "
      ]
     },
     "execution_count": 18,
     "metadata": {},
     "output_type": "execute_result"
    }
   ],
   "source": [
    "st[st.name.str.contains('Hayden Pass')]"
   ]
  },
  {
   "cell_type": "code",
   "execution_count": 19,
   "metadata": {
    "collapsed": false
   },
   "outputs": [
    {
     "name": "stderr",
     "output_type": "stream",
     "text": [
      "E:\\Programs\\Anaconda3\\lib\\site-packages\\ulmo\\ncdc\\ghcn_daily\\core.py:89: SettingWithCopyWarning: \n",
      "A value is trying to be set on a copy of a slice from a DataFrame.\n",
      "Try using .loc[row_indexer,col_indexer] = value instead\n",
      "\n",
      "See the caveats in the documentation: http://pandas.pydata.org/pandas-docs/stable/indexing.html#indexing-view-versus-copy\n",
      "  axis=1)\n",
      "E:\\Programs\\Anaconda3\\lib\\site-packages\\ulmo\\ncdc\\ghcn_daily\\core.py:95: FutureWarning: .resample() is now a deferred operation\n",
      "use .resample(...).mean() instead of .resample(...)\n",
      "  daily_index = element_df.resample('D').index.copy()\n"
     ]
    }
   ],
   "source": [
    "data = ulmo.ncdc.ghcn_daily.get_data('USS0005L12S', as_dataframe=True)"
   ]
  },
  {
   "cell_type": "code",
   "execution_count": 20,
   "metadata": {
    "collapsed": false
   },
   "outputs": [
    {
     "data": {
      "text/plain": [
       "{'AWDR':              value mflag qflag sflag\n",
       " month_period                        \n",
       " 2016-07-01     NaN   NaN   NaN   NaN\n",
       " 2016-07-02     NaN   NaN   NaN   NaN\n",
       " 2016-07-03     NaN   NaN   NaN   NaN\n",
       " 2016-07-04     NaN   NaN   NaN   NaN\n",
       " 2016-07-05     NaN   NaN   NaN   NaN\n",
       " 2016-07-06     NaN   NaN   NaN   NaN\n",
       " 2016-07-07      40   NaN   NaN     T\n",
       " 2016-07-08      20   NaN   NaN     T\n",
       " 2016-07-09      27   NaN   NaN     T\n",
       " 2016-07-10      63   NaN   NaN     T\n",
       " 2016-07-11      49   NaN   NaN     T\n",
       " 2016-07-12      36   NaN   NaN     T\n",
       " 2016-07-13      37   NaN   NaN     T\n",
       " 2016-07-14      22   NaN   NaN     T\n",
       " 2016-07-15      27   NaN   NaN     T\n",
       " 2016-07-16      38   NaN   NaN     T\n",
       " 2016-07-17      29   NaN   NaN     T\n",
       " 2016-07-18      28   NaN   NaN     T\n",
       " 2016-07-19      34   NaN   NaN     T\n",
       " 2016-07-20      39   NaN   NaN     T\n",
       " 2016-07-21      28   NaN   NaN     T\n",
       " 2016-07-22      29   NaN   NaN     T\n",
       " 2016-07-23      21   NaN   NaN     T\n",
       " 2016-07-24      20   NaN   NaN     T\n",
       " 2016-07-25      20   NaN   NaN     T\n",
       " 2016-07-26      21   NaN   NaN     T\n",
       " 2016-07-27      19   NaN   NaN     T\n",
       " 2016-07-28      28   NaN   NaN     T\n",
       " 2016-07-29      22   NaN   NaN     T\n",
       " 2016-07-30      33   NaN   NaN     T\n",
       " ...            ...   ...   ...   ...\n",
       " 2016-11-01      46   NaN   NaN     T\n",
       " 2016-11-02      19   NaN   NaN     T\n",
       " 2016-11-03      12   NaN   NaN     T\n",
       " 2016-11-04      18   NaN   NaN     T\n",
       " 2016-11-05      33   NaN   NaN     T\n",
       " 2016-11-06      24   NaN   NaN     T\n",
       " 2016-11-07      14   NaN   NaN     T\n",
       " 2016-11-08      12   NaN   NaN     T\n",
       " 2016-11-09      20   NaN   NaN     T\n",
       " 2016-11-10      20   NaN   NaN     T\n",
       " 2016-11-11      15   NaN   NaN     T\n",
       " 2016-11-12     NaN   NaN   NaN   NaN\n",
       " 2016-11-13     NaN   NaN   NaN   NaN\n",
       " 2016-11-14     NaN   NaN   NaN   NaN\n",
       " 2016-11-15     NaN   NaN   NaN   NaN\n",
       " 2016-11-16     NaN   NaN   NaN   NaN\n",
       " 2016-11-17     NaN   NaN   NaN   NaN\n",
       " 2016-11-18     NaN   NaN   NaN   NaN\n",
       " 2016-11-19     NaN   NaN   NaN   NaN\n",
       " 2016-11-20     NaN   NaN   NaN   NaN\n",
       " 2016-11-21     NaN   NaN   NaN   NaN\n",
       " 2016-11-22     NaN   NaN   NaN   NaN\n",
       " 2016-11-23     NaN   NaN   NaN   NaN\n",
       " 2016-11-24     NaN   NaN   NaN   NaN\n",
       " 2016-11-25     NaN   NaN   NaN   NaN\n",
       " 2016-11-26     NaN   NaN   NaN   NaN\n",
       " 2016-11-27     NaN   NaN   NaN   NaN\n",
       " 2016-11-28     NaN   NaN   NaN   NaN\n",
       " 2016-11-29     NaN   NaN   NaN   NaN\n",
       " 2016-11-30     NaN   NaN   NaN   NaN\n",
       " \n",
       " [153 rows x 4 columns], 'AWND':              value mflag qflag sflag\n",
       " month_period                        \n",
       " 2016-07-01     NaN   NaN   NaN   NaN\n",
       " 2016-07-02     NaN   NaN   NaN   NaN\n",
       " 2016-07-03     NaN   NaN   NaN   NaN\n",
       " 2016-07-04     NaN   NaN   NaN   NaN\n",
       " 2016-07-05     NaN   NaN   NaN   NaN\n",
       " 2016-07-06     NaN   NaN   NaN   NaN\n",
       " 2016-07-07     330   NaN   NaN     T\n",
       " 2016-07-08     237   NaN   NaN     T\n",
       " 2016-07-09     350   NaN   NaN     T\n",
       " 2016-07-10     355   NaN   NaN     T\n",
       " 2016-07-11     328   NaN   NaN     T\n",
       " 2016-07-12     337   NaN   NaN     T\n",
       " 2016-07-13     316   NaN   NaN     T\n",
       " 2016-07-14     208   NaN   NaN     T\n",
       " 2016-07-15     299   NaN   NaN     T\n",
       " 2016-07-16     349   NaN   NaN     T\n",
       " 2016-07-17     336   NaN   NaN     T\n",
       " 2016-07-18     299   NaN   NaN     T\n",
       " 2016-07-19     347   NaN   NaN     T\n",
       " 2016-07-20     356   NaN   NaN     T\n",
       " 2016-07-21     295   NaN   NaN     T\n",
       " 2016-07-22     355   NaN   NaN     T\n",
       " 2016-07-23     283   NaN   NaN     T\n",
       " 2016-07-24     244   NaN   NaN     T\n",
       " 2016-07-25     244   NaN   NaN     T\n",
       " 2016-07-26     219   NaN   NaN     T\n",
       " 2016-07-27     212   NaN   NaN     T\n",
       " 2016-07-28     260   NaN   NaN     T\n",
       " 2016-07-29     226   NaN   NaN     T\n",
       " 2016-07-30     330   NaN   NaN     T\n",
       " ...            ...   ...   ...   ...\n",
       " 2016-11-01     362   NaN   NaN     T\n",
       " 2016-11-02     153   NaN   NaN     T\n",
       " 2016-11-03     117   NaN   NaN     T\n",
       " 2016-11-04     202   NaN   NaN     T\n",
       " 2016-11-05     357   NaN   NaN     T\n",
       " 2016-11-06     324   NaN   NaN     T\n",
       " 2016-11-07      95   NaN   NaN     T\n",
       " 2016-11-08     197   NaN   NaN     T\n",
       " 2016-11-09     349   NaN   NaN     T\n",
       " 2016-11-10     141   NaN   NaN     T\n",
       " 2016-11-11     199   NaN   NaN     T\n",
       " 2016-11-12     NaN   NaN   NaN   NaN\n",
       " 2016-11-13     NaN   NaN   NaN   NaN\n",
       " 2016-11-14     NaN   NaN   NaN   NaN\n",
       " 2016-11-15     NaN   NaN   NaN   NaN\n",
       " 2016-11-16     NaN   NaN   NaN   NaN\n",
       " 2016-11-17     NaN   NaN   NaN   NaN\n",
       " 2016-11-18     NaN   NaN   NaN   NaN\n",
       " 2016-11-19     NaN   NaN   NaN   NaN\n",
       " 2016-11-20     NaN   NaN   NaN   NaN\n",
       " 2016-11-21     NaN   NaN   NaN   NaN\n",
       " 2016-11-22     NaN   NaN   NaN   NaN\n",
       " 2016-11-23     NaN   NaN   NaN   NaN\n",
       " 2016-11-24     NaN   NaN   NaN   NaN\n",
       " 2016-11-25     NaN   NaN   NaN   NaN\n",
       " 2016-11-26     NaN   NaN   NaN   NaN\n",
       " 2016-11-27     NaN   NaN   NaN   NaN\n",
       " 2016-11-28     NaN   NaN   NaN   NaN\n",
       " 2016-11-29     NaN   NaN   NaN   NaN\n",
       " 2016-11-30     NaN   NaN   NaN   NaN\n",
       " \n",
       " [153 rows x 4 columns], 'PRCP':              value mflag qflag sflag\n",
       " month_period                        \n",
       " 2007-10-01       0   NaN   NaN     T\n",
       " 2007-10-02      25   NaN   NaN     T\n",
       " 2007-10-03       0   NaN   NaN     T\n",
       " 2007-10-04       0   NaN   NaN     T\n",
       " 2007-10-05      25   NaN   NaN     T\n",
       " 2007-10-06       0   NaN   NaN     T\n",
       " 2007-10-07       0   NaN   NaN     T\n",
       " 2007-10-08       0   NaN   NaN     T\n",
       " 2007-10-09       0   NaN   NaN     T\n",
       " 2007-10-10       0   NaN   NaN     T\n",
       " 2007-10-11       0   NaN   NaN     T\n",
       " 2007-10-12       0   NaN   NaN     T\n",
       " 2007-10-13      25   NaN   NaN     T\n",
       " 2007-10-14      25   NaN   NaN     T\n",
       " 2007-10-15       0   NaN   NaN     T\n",
       " 2007-10-16       0   NaN   NaN     T\n",
       " 2007-10-17       0   NaN   NaN     T\n",
       " 2007-10-18       0   NaN   NaN     T\n",
       " 2007-10-19       0   NaN   NaN     T\n",
       " 2007-10-20       0   NaN   NaN     T\n",
       " 2007-10-21      51   NaN   NaN     T\n",
       " 2007-10-22       0   NaN   NaN     T\n",
       " 2007-10-23       0   NaN   NaN     T\n",
       " 2007-10-24       0   NaN   NaN     T\n",
       " 2007-10-25       0   NaN   NaN     T\n",
       " 2007-10-26       0   NaN   NaN     T\n",
       " 2007-10-27       0   NaN   NaN     T\n",
       " 2007-10-28       0   NaN   NaN     T\n",
       " 2007-10-29       0   NaN   NaN     T\n",
       " 2007-10-30       0   NaN   NaN     T\n",
       " ...            ...   ...   ...   ...\n",
       " 2016-11-01       0   NaN   NaN     T\n",
       " 2016-11-02     NaN   NaN   NaN   NaN\n",
       " 2016-11-03       0   NaN   NaN     T\n",
       " 2016-11-04       0   NaN   NaN     T\n",
       " 2016-11-05      25   NaN   NaN     T\n",
       " 2016-11-06       0   NaN   NaN     T\n",
       " 2016-11-07     NaN   NaN   NaN   NaN\n",
       " 2016-11-08     NaN   NaN   NaN   NaN\n",
       " 2016-11-09     NaN   NaN   NaN   NaN\n",
       " 2016-11-10     NaN   NaN   NaN   NaN\n",
       " 2016-11-11     NaN   NaN   NaN   NaN\n",
       " 2016-11-12     NaN   NaN   NaN   NaN\n",
       " 2016-11-13     NaN   NaN   NaN   NaN\n",
       " 2016-11-14     NaN   NaN   NaN   NaN\n",
       " 2016-11-15     NaN   NaN   NaN   NaN\n",
       " 2016-11-16     NaN   NaN   NaN   NaN\n",
       " 2016-11-17     NaN   NaN   NaN   NaN\n",
       " 2016-11-18     NaN   NaN   NaN   NaN\n",
       " 2016-11-19     NaN   NaN   NaN   NaN\n",
       " 2016-11-20     NaN   NaN   NaN   NaN\n",
       " 2016-11-21     NaN   NaN   NaN   NaN\n",
       " 2016-11-22     NaN   NaN   NaN   NaN\n",
       " 2016-11-23     NaN   NaN   NaN   NaN\n",
       " 2016-11-24     NaN   NaN   NaN   NaN\n",
       " 2016-11-25     NaN   NaN   NaN   NaN\n",
       " 2016-11-26     NaN   NaN   NaN   NaN\n",
       " 2016-11-27     NaN   NaN   NaN   NaN\n",
       " 2016-11-28     NaN   NaN   NaN   NaN\n",
       " 2016-11-29     NaN   NaN   NaN   NaN\n",
       " 2016-11-30     NaN   NaN   NaN   NaN\n",
       " \n",
       " [3349 rows x 4 columns], 'SNWD':              value mflag qflag sflag\n",
       " month_period                        \n",
       " 2007-10-01     NaN   NaN   NaN   NaN\n",
       " 2007-10-02       0   NaN   NaN     T\n",
       " 2007-10-03       0   NaN   NaN     T\n",
       " 2007-10-04       0   NaN   NaN     T\n",
       " 2007-10-05       0   NaN   NaN     T\n",
       " 2007-10-06       0   NaN   NaN     T\n",
       " 2007-10-07       0   NaN   NaN     T\n",
       " 2007-10-08       0   NaN   NaN     T\n",
       " 2007-10-09       0   NaN   NaN     T\n",
       " 2007-10-10       0   NaN   NaN     T\n",
       " 2007-10-11       0   NaN   NaN     T\n",
       " 2007-10-12       0   NaN   NaN     T\n",
       " 2007-10-13       0   NaN   NaN     T\n",
       " 2007-10-14       0   NaN   NaN     T\n",
       " 2007-10-15       0   NaN   NaN     T\n",
       " 2007-10-16       0   NaN   NaN     T\n",
       " 2007-10-17      25   NaN   NaN     T\n",
       " 2007-10-18      25   NaN   NaN     T\n",
       " 2007-10-19       0   NaN   NaN     T\n",
       " 2007-10-20       0   NaN   NaN     T\n",
       " 2007-10-21     NaN   NaN   NaN   NaN\n",
       " 2007-10-22       0   NaN   NaN     T\n",
       " 2007-10-23       0   NaN   NaN     T\n",
       " 2007-10-24       0   NaN   NaN     T\n",
       " 2007-10-25     NaN   NaN   NaN   NaN\n",
       " 2007-10-26      25   NaN   NaN     T\n",
       " 2007-10-27       0   NaN   NaN     T\n",
       " 2007-10-28       0   NaN   NaN     T\n",
       " 2007-10-29      25   NaN   NaN     T\n",
       " 2007-10-30      25   NaN   NaN     T\n",
       " ...            ...   ...   ...   ...\n",
       " 2016-11-01       0   NaN   NaN     T\n",
       " 2016-11-02     NaN   NaN   NaN   NaN\n",
       " 2016-11-03      25   NaN   NaN     T\n",
       " 2016-11-04      25   NaN   NaN     T\n",
       " 2016-11-05      51   NaN   NaN     T\n",
       " 2016-11-06      25   NaN   NaN     T\n",
       " 2016-11-07       0   NaN   NaN     T\n",
       " 2016-11-08     NaN   NaN   NaN   NaN\n",
       " 2016-11-09       0   NaN   NaN     T\n",
       " 2016-11-10       0   NaN   NaN     T\n",
       " 2016-11-11       0   NaN   NaN     T\n",
       " 2016-11-12     NaN   NaN   NaN   NaN\n",
       " 2016-11-13     NaN   NaN   NaN   NaN\n",
       " 2016-11-14     NaN   NaN   NaN   NaN\n",
       " 2016-11-15     NaN   NaN   NaN   NaN\n",
       " 2016-11-16     NaN   NaN   NaN   NaN\n",
       " 2016-11-17     NaN   NaN   NaN   NaN\n",
       " 2016-11-18     NaN   NaN   NaN   NaN\n",
       " 2016-11-19     NaN   NaN   NaN   NaN\n",
       " 2016-11-20     NaN   NaN   NaN   NaN\n",
       " 2016-11-21     NaN   NaN   NaN   NaN\n",
       " 2016-11-22     NaN   NaN   NaN   NaN\n",
       " 2016-11-23     NaN   NaN   NaN   NaN\n",
       " 2016-11-24     NaN   NaN   NaN   NaN\n",
       " 2016-11-25     NaN   NaN   NaN   NaN\n",
       " 2016-11-26     NaN   NaN   NaN   NaN\n",
       " 2016-11-27     NaN   NaN   NaN   NaN\n",
       " 2016-11-28     NaN   NaN   NaN   NaN\n",
       " 2016-11-29     NaN   NaN   NaN   NaN\n",
       " 2016-11-30     NaN   NaN   NaN   NaN\n",
       " \n",
       " [3349 rows x 4 columns], 'TAVG':              value mflag qflag sflag\n",
       " month_period                        \n",
       " 2007-09-01     NaN   NaN   NaN   NaN\n",
       " 2007-09-02     NaN   NaN   NaN   NaN\n",
       " 2007-09-03     NaN   NaN   NaN   NaN\n",
       " 2007-09-04     NaN   NaN   NaN   NaN\n",
       " 2007-09-05     NaN   NaN   NaN   NaN\n",
       " 2007-09-06     NaN   NaN   NaN   NaN\n",
       " 2007-09-07     NaN   NaN   NaN   NaN\n",
       " 2007-09-08     NaN   NaN   NaN   NaN\n",
       " 2007-09-09     NaN   NaN   NaN   NaN\n",
       " 2007-09-10      87   NaN   NaN     T\n",
       " 2007-09-11      92   NaN   NaN     T\n",
       " 2007-09-12      99   NaN   NaN     T\n",
       " 2007-09-13     115   NaN   NaN     T\n",
       " 2007-09-14     115   NaN   NaN     T\n",
       " 2007-09-15     110   NaN   NaN     T\n",
       " 2007-09-16     106   NaN   NaN     T\n",
       " 2007-09-17      54   NaN   NaN     T\n",
       " 2007-09-18      58   NaN   NaN     T\n",
       " 2007-09-19      85   NaN   NaN     T\n",
       " 2007-09-20      72   NaN   NaN     T\n",
       " 2007-09-21      93   NaN   NaN     T\n",
       " 2007-09-22     102   NaN   NaN     T\n",
       " 2007-09-23      69   NaN   NaN     T\n",
       " 2007-09-24      39   NaN   NaN     T\n",
       " 2007-09-25      44   NaN   NaN     T\n",
       " 2007-09-26      64   NaN   NaN     T\n",
       " 2007-09-27      73   NaN   NaN     T\n",
       " 2007-09-28      51   NaN   NaN     T\n",
       " 2007-09-29      49   NaN   NaN     T\n",
       " 2007-09-30      28   NaN   NaN     T\n",
       " ...            ...   ...   ...   ...\n",
       " 2016-11-01      40   NaN   NaN     T\n",
       " 2016-11-02      23   NaN   NaN     T\n",
       " 2016-11-03      35   NaN   NaN     T\n",
       " 2016-11-04      41   NaN   NaN     T\n",
       " 2016-11-05      20   NaN   NaN     T\n",
       " 2016-11-06      16   NaN   NaN     T\n",
       " 2016-11-07      24   NaN   NaN     T\n",
       " 2016-11-08      28   NaN   NaN     T\n",
       " 2016-11-09      54   NaN   NaN     T\n",
       " 2016-11-10      43   NaN   NaN     T\n",
       " 2016-11-11      13   NaN   NaN     T\n",
       " 2016-11-12     NaN   NaN   NaN   NaN\n",
       " 2016-11-13     NaN   NaN   NaN   NaN\n",
       " 2016-11-14     NaN   NaN   NaN   NaN\n",
       " 2016-11-15     NaN   NaN   NaN   NaN\n",
       " 2016-11-16     NaN   NaN   NaN   NaN\n",
       " 2016-11-17     NaN   NaN   NaN   NaN\n",
       " 2016-11-18     NaN   NaN   NaN   NaN\n",
       " 2016-11-19     NaN   NaN   NaN   NaN\n",
       " 2016-11-20     NaN   NaN   NaN   NaN\n",
       " 2016-11-21     NaN   NaN   NaN   NaN\n",
       " 2016-11-22     NaN   NaN   NaN   NaN\n",
       " 2016-11-23     NaN   NaN   NaN   NaN\n",
       " 2016-11-24     NaN   NaN   NaN   NaN\n",
       " 2016-11-25     NaN   NaN   NaN   NaN\n",
       " 2016-11-26     NaN   NaN   NaN   NaN\n",
       " 2016-11-27     NaN   NaN   NaN   NaN\n",
       " 2016-11-28     NaN   NaN   NaN   NaN\n",
       " 2016-11-29     NaN   NaN   NaN   NaN\n",
       " 2016-11-30     NaN   NaN   NaN   NaN\n",
       " \n",
       " [3379 rows x 4 columns], 'TMAX':              value mflag qflag sflag\n",
       " month_period                        \n",
       " 2007-09-01     NaN   NaN   NaN   NaN\n",
       " 2007-09-02     NaN   NaN   NaN   NaN\n",
       " 2007-09-03     NaN   NaN   NaN   NaN\n",
       " 2007-09-04     NaN   NaN   NaN   NaN\n",
       " 2007-09-05     NaN   NaN   NaN   NaN\n",
       " 2007-09-06     NaN   NaN   NaN   NaN\n",
       " 2007-09-07     NaN   NaN   NaN   NaN\n",
       " 2007-09-08     NaN   NaN   NaN   NaN\n",
       " 2007-09-09     NaN   NaN   NaN   NaN\n",
       " 2007-09-10     156   NaN   NaN     T\n",
       " 2007-09-11     162   NaN   NaN     T\n",
       " 2007-09-12     167   NaN   NaN     T\n",
       " 2007-09-13     177   NaN   NaN     T\n",
       " 2007-09-14     168   NaN   NaN     T\n",
       " 2007-09-15     167   NaN   NaN     T\n",
       " 2007-09-16     165   NaN   NaN     T\n",
       " 2007-09-17      91   NaN   NaN     T\n",
       " 2007-09-18     107   NaN   NaN     T\n",
       " 2007-09-19     141   NaN   NaN     T\n",
       " 2007-09-20     129   NaN   NaN     T\n",
       " 2007-09-21     165   NaN   NaN     T\n",
       " 2007-09-22     160   NaN   NaN     T\n",
       " 2007-09-23     106   NaN   NaN     T\n",
       " 2007-09-24     102   NaN   NaN     T\n",
       " 2007-09-25     106   NaN   NaN     T\n",
       " 2007-09-26     133   NaN   NaN     T\n",
       " 2007-09-27     147   NaN   NaN     T\n",
       " 2007-09-28      81   NaN   NaN     T\n",
       " 2007-09-29      91   NaN   NaN     T\n",
       " 2007-09-30     103   NaN   NaN     T\n",
       " ...            ...   ...   ...   ...\n",
       " 2016-11-01      93   NaN   NaN     T\n",
       " 2016-11-02      72   NaN   NaN     T\n",
       " 2016-11-03      92   NaN   NaN     T\n",
       " 2016-11-04     115   NaN   NaN     T\n",
       " 2016-11-05      27   NaN   NaN     T\n",
       " 2016-11-06      46   NaN   NaN     T\n",
       " 2016-11-07      79   NaN   NaN     T\n",
       " 2016-11-08      75   NaN   NaN     T\n",
       " 2016-11-09     115   NaN   NaN     T\n",
       " 2016-11-10      78   NaN   NaN     T\n",
       " 2016-11-11      57   NaN   NaN     T\n",
       " 2016-11-12     NaN   NaN   NaN   NaN\n",
       " 2016-11-13     NaN   NaN   NaN   NaN\n",
       " 2016-11-14     NaN   NaN   NaN   NaN\n",
       " 2016-11-15     NaN   NaN   NaN   NaN\n",
       " 2016-11-16     NaN   NaN   NaN   NaN\n",
       " 2016-11-17     NaN   NaN   NaN   NaN\n",
       " 2016-11-18     NaN   NaN   NaN   NaN\n",
       " 2016-11-19     NaN   NaN   NaN   NaN\n",
       " 2016-11-20     NaN   NaN   NaN   NaN\n",
       " 2016-11-21     NaN   NaN   NaN   NaN\n",
       " 2016-11-22     NaN   NaN   NaN   NaN\n",
       " 2016-11-23     NaN   NaN   NaN   NaN\n",
       " 2016-11-24     NaN   NaN   NaN   NaN\n",
       " 2016-11-25     NaN   NaN   NaN   NaN\n",
       " 2016-11-26     NaN   NaN   NaN   NaN\n",
       " 2016-11-27     NaN   NaN   NaN   NaN\n",
       " 2016-11-28     NaN   NaN   NaN   NaN\n",
       " 2016-11-29     NaN   NaN   NaN   NaN\n",
       " 2016-11-30     NaN   NaN   NaN   NaN\n",
       " \n",
       " [3379 rows x 4 columns], 'TMIN':              value mflag qflag sflag\n",
       " month_period                        \n",
       " 2007-09-01     NaN   NaN   NaN   NaN\n",
       " 2007-09-02     NaN   NaN   NaN   NaN\n",
       " 2007-09-03     NaN   NaN   NaN   NaN\n",
       " 2007-09-04     NaN   NaN   NaN   NaN\n",
       " 2007-09-05     NaN   NaN   NaN   NaN\n",
       " 2007-09-06     NaN   NaN   NaN   NaN\n",
       " 2007-09-07     NaN   NaN   NaN   NaN\n",
       " 2007-09-08     NaN   NaN   NaN   NaN\n",
       " 2007-09-09     NaN   NaN   NaN   NaN\n",
       " 2007-09-10      48   NaN   NaN     T\n",
       " 2007-09-11      48   NaN   NaN     T\n",
       " 2007-09-12      54   NaN   NaN     T\n",
       " 2007-09-13      75   NaN   NaN     T\n",
       " 2007-09-14      73   NaN   NaN     T\n",
       " 2007-09-15      72   NaN   NaN     T\n",
       " 2007-09-16      70   NaN   NaN     T\n",
       " 2007-09-17      34   NaN   NaN     T\n",
       " 2007-09-18      24   NaN   NaN     T\n",
       " 2007-09-19      36   NaN   NaN     T\n",
       " 2007-09-20      54   NaN   NaN     T\n",
       " 2007-09-21      49   NaN   NaN     T\n",
       " 2007-09-22      68   NaN   NaN     T\n",
       " 2007-09-23      44   NaN   NaN     T\n",
       " 2007-09-24       3   NaN   NaN     T\n",
       " 2007-09-25      -4   NaN   NaN     T\n",
       " 2007-09-26      12   NaN   NaN     T\n",
       " 2007-09-27      30   NaN   NaN     T\n",
       " 2007-09-28      38   NaN   NaN     T\n",
       " 2007-09-29     NaN   NaN   NaN   NaN\n",
       " 2007-09-30     -50   NaN   NaN     T\n",
       " ...            ...   ...   ...   ...\n",
       " 2016-11-01      13   NaN   NaN     T\n",
       " 2016-11-02      -1   NaN   NaN     T\n",
       " 2016-11-03       4   NaN   NaN     T\n",
       " 2016-11-04       5   NaN   NaN     T\n",
       " 2016-11-05      10   NaN   NaN     T\n",
       " 2016-11-06      -1   NaN   NaN     T\n",
       " 2016-11-07     -13   NaN   NaN     T\n",
       " 2016-11-08      -7   NaN   NaN     T\n",
       " 2016-11-09      19   NaN   NaN     T\n",
       " 2016-11-10      -5   NaN   NaN     T\n",
       " 2016-11-11     -36   NaN   NaN     T\n",
       " 2016-11-12     NaN   NaN   NaN   NaN\n",
       " 2016-11-13     NaN   NaN   NaN   NaN\n",
       " 2016-11-14     NaN   NaN   NaN   NaN\n",
       " 2016-11-15     NaN   NaN   NaN   NaN\n",
       " 2016-11-16     NaN   NaN   NaN   NaN\n",
       " 2016-11-17     NaN   NaN   NaN   NaN\n",
       " 2016-11-18     NaN   NaN   NaN   NaN\n",
       " 2016-11-19     NaN   NaN   NaN   NaN\n",
       " 2016-11-20     NaN   NaN   NaN   NaN\n",
       " 2016-11-21     NaN   NaN   NaN   NaN\n",
       " 2016-11-22     NaN   NaN   NaN   NaN\n",
       " 2016-11-23     NaN   NaN   NaN   NaN\n",
       " 2016-11-24     NaN   NaN   NaN   NaN\n",
       " 2016-11-25     NaN   NaN   NaN   NaN\n",
       " 2016-11-26     NaN   NaN   NaN   NaN\n",
       " 2016-11-27     NaN   NaN   NaN   NaN\n",
       " 2016-11-28     NaN   NaN   NaN   NaN\n",
       " 2016-11-29     NaN   NaN   NaN   NaN\n",
       " 2016-11-30     NaN   NaN   NaN   NaN\n",
       " \n",
       " [3379 rows x 4 columns], 'TOBS':              value mflag qflag sflag\n",
       " month_period                        \n",
       " 2007-09-01     NaN   NaN   NaN   NaN\n",
       " 2007-09-02     NaN   NaN   NaN   NaN\n",
       " 2007-09-03     NaN   NaN   NaN   NaN\n",
       " 2007-09-04     NaN   NaN   NaN   NaN\n",
       " 2007-09-05     NaN   NaN   NaN   NaN\n",
       " 2007-09-06     NaN   NaN   NaN   NaN\n",
       " 2007-09-07     NaN   NaN   NaN   NaN\n",
       " 2007-09-08     NaN   NaN   NaN   NaN\n",
       " 2007-09-09     NaN   NaN   NaN   NaN\n",
       " 2007-09-10      61   NaN   NaN     T\n",
       " 2007-09-11      71   NaN   NaN     T\n",
       " 2007-09-12      91   NaN   NaN     T\n",
       " 2007-09-13      97   NaN   NaN     T\n",
       " 2007-09-14      93   NaN   NaN     T\n",
       " 2007-09-15     101   NaN   NaN     T\n",
       " 2007-09-16      91   NaN   NaN     T\n",
       " 2007-09-17      36   NaN   NaN     T\n",
       " 2007-09-18      54   NaN   NaN     T\n",
       " 2007-09-19      74   NaN   NaN     T\n",
       " 2007-09-20      56   NaN   NaN     T\n",
       " 2007-09-21      85   NaN   NaN     T\n",
       " 2007-09-22      85   NaN   NaN     T\n",
       " 2007-09-23      44   NaN   NaN     T\n",
       " 2007-09-24      10   NaN   NaN     T\n",
       " 2007-09-25      26   NaN   NaN     T\n",
       " 2007-09-26      47   NaN   NaN     T\n",
       " 2007-09-27      53   NaN   NaN     T\n",
       " 2007-09-28      46   NaN   NaN     T\n",
       " 2007-09-29     NaN   NaN   NaN   NaN\n",
       " 2007-09-30      44   NaN   NaN     T\n",
       " ...            ...   ...   ...   ...\n",
       " 2016-11-01      20   NaN   NaN     T\n",
       " 2016-11-02       5   NaN   NaN     T\n",
       " 2016-11-03       9   NaN   NaN     T\n",
       " 2016-11-04      22   NaN   NaN     T\n",
       " 2016-11-05      18   NaN   NaN     T\n",
       " 2016-11-06       2   NaN   NaN     T\n",
       " 2016-11-07       1   NaN   NaN     T\n",
       " 2016-11-08      27   NaN   NaN     T\n",
       " 2016-11-09      43   NaN   NaN     T\n",
       " 2016-11-10      -5   NaN   NaN     T\n",
       " 2016-11-11       5   NaN   NaN     T\n",
       " 2016-11-12     NaN   NaN   NaN   NaN\n",
       " 2016-11-13     NaN   NaN   NaN   NaN\n",
       " 2016-11-14     NaN   NaN   NaN   NaN\n",
       " 2016-11-15     NaN   NaN   NaN   NaN\n",
       " 2016-11-16     NaN   NaN   NaN   NaN\n",
       " 2016-11-17     NaN   NaN   NaN   NaN\n",
       " 2016-11-18     NaN   NaN   NaN   NaN\n",
       " 2016-11-19     NaN   NaN   NaN   NaN\n",
       " 2016-11-20     NaN   NaN   NaN   NaN\n",
       " 2016-11-21     NaN   NaN   NaN   NaN\n",
       " 2016-11-22     NaN   NaN   NaN   NaN\n",
       " 2016-11-23     NaN   NaN   NaN   NaN\n",
       " 2016-11-24     NaN   NaN   NaN   NaN\n",
       " 2016-11-25     NaN   NaN   NaN   NaN\n",
       " 2016-11-26     NaN   NaN   NaN   NaN\n",
       " 2016-11-27     NaN   NaN   NaN   NaN\n",
       " 2016-11-28     NaN   NaN   NaN   NaN\n",
       " 2016-11-29     NaN   NaN   NaN   NaN\n",
       " 2016-11-30     NaN   NaN   NaN   NaN\n",
       " \n",
       " [3379 rows x 4 columns], 'WESD':              value mflag qflag sflag\n",
       " month_period                        \n",
       " 2007-09-01     NaN   NaN   NaN   NaN\n",
       " 2007-09-02     NaN   NaN   NaN   NaN\n",
       " 2007-09-03     NaN   NaN   NaN   NaN\n",
       " 2007-09-04     NaN   NaN   NaN   NaN\n",
       " 2007-09-05     NaN   NaN   NaN   NaN\n",
       " 2007-09-06     NaN   NaN   NaN   NaN\n",
       " 2007-09-07     NaN   NaN   NaN   NaN\n",
       " 2007-09-08     NaN   NaN   NaN   NaN\n",
       " 2007-09-09     NaN   NaN   NaN   NaN\n",
       " 2007-09-10     NaN   NaN   NaN   NaN\n",
       " 2007-09-11     NaN   NaN   NaN   NaN\n",
       " 2007-09-12     NaN   NaN   NaN   NaN\n",
       " 2007-09-13     NaN   NaN   NaN   NaN\n",
       " 2007-09-14     NaN   NaN   NaN   NaN\n",
       " 2007-09-15     NaN   NaN   NaN   NaN\n",
       " 2007-09-16     NaN   NaN   NaN   NaN\n",
       " 2007-09-17     NaN   NaN   NaN   NaN\n",
       " 2007-09-18     NaN   NaN   NaN   NaN\n",
       " 2007-09-19     NaN   NaN   NaN   NaN\n",
       " 2007-09-20     NaN   NaN   NaN   NaN\n",
       " 2007-09-21     NaN   NaN   NaN   NaN\n",
       " 2007-09-22     NaN   NaN   NaN   NaN\n",
       " 2007-09-23     NaN   NaN   NaN   NaN\n",
       " 2007-09-24     NaN   NaN   NaN   NaN\n",
       " 2007-09-25     NaN   NaN   NaN   NaN\n",
       " 2007-09-26     NaN   NaN   NaN   NaN\n",
       " 2007-09-27     NaN   NaN   NaN   NaN\n",
       " 2007-09-28     NaN   NaN   NaN   NaN\n",
       " 2007-09-29     NaN   NaN   NaN   NaN\n",
       " 2007-09-30       0   NaN   NaN     T\n",
       " ...            ...   ...   ...   ...\n",
       " 2016-11-01      25   NaN   NaN     T\n",
       " 2016-11-02      25   NaN   NaN     T\n",
       " 2016-11-03      51   NaN   NaN     T\n",
       " 2016-11-04      51   NaN   NaN     T\n",
       " 2016-11-05      76   NaN   NaN     T\n",
       " 2016-11-06      51   NaN   NaN     T\n",
       " 2016-11-07      51   NaN   NaN     T\n",
       " 2016-11-08      51   NaN   NaN     T\n",
       " 2016-11-09      51   NaN   NaN     T\n",
       " 2016-11-10      51   NaN   NaN     T\n",
       " 2016-11-11      51   NaN   NaN     T\n",
       " 2016-11-12     NaN   NaN   NaN   NaN\n",
       " 2016-11-13     NaN   NaN   NaN   NaN\n",
       " 2016-11-14     NaN   NaN   NaN   NaN\n",
       " 2016-11-15     NaN   NaN   NaN   NaN\n",
       " 2016-11-16     NaN   NaN   NaN   NaN\n",
       " 2016-11-17     NaN   NaN   NaN   NaN\n",
       " 2016-11-18     NaN   NaN   NaN   NaN\n",
       " 2016-11-19     NaN   NaN   NaN   NaN\n",
       " 2016-11-20     NaN   NaN   NaN   NaN\n",
       " 2016-11-21     NaN   NaN   NaN   NaN\n",
       " 2016-11-22     NaN   NaN   NaN   NaN\n",
       " 2016-11-23     NaN   NaN   NaN   NaN\n",
       " 2016-11-24     NaN   NaN   NaN   NaN\n",
       " 2016-11-25     NaN   NaN   NaN   NaN\n",
       " 2016-11-26     NaN   NaN   NaN   NaN\n",
       " 2016-11-27     NaN   NaN   NaN   NaN\n",
       " 2016-11-28     NaN   NaN   NaN   NaN\n",
       " 2016-11-29     NaN   NaN   NaN   NaN\n",
       " 2016-11-30     NaN   NaN   NaN   NaN\n",
       " \n",
       " [3379 rows x 4 columns], 'WSFI':              value mflag qflag sflag\n",
       " month_period                        \n",
       " 2016-07-01     NaN   NaN   NaN   NaN\n",
       " 2016-07-02     NaN   NaN   NaN   NaN\n",
       " 2016-07-03     NaN   NaN   NaN   NaN\n",
       " 2016-07-04     NaN   NaN   NaN   NaN\n",
       " 2016-07-05     NaN   NaN   NaN   NaN\n",
       " 2016-07-06     NaN   NaN   NaN   NaN\n",
       " 2016-07-07      45   NaN   NaN     T\n",
       " 2016-07-08      25   NaN   NaN     T\n",
       " 2016-07-09      25   NaN   NaN     T\n",
       " 2016-07-10      76   NaN   NaN     T\n",
       " 2016-07-11      60   NaN   NaN     T\n",
       " 2016-07-12      36   NaN   NaN     T\n",
       " 2016-07-13      45   NaN   NaN     T\n",
       " 2016-07-14      31   NaN   NaN     T\n",
       " 2016-07-15      38   NaN   NaN     T\n",
       " 2016-07-16      47   NaN   NaN     T\n",
       " 2016-07-17      33   NaN   NaN     T\n",
       " 2016-07-18      43   NaN   NaN     T\n",
       " 2016-07-19      45   NaN   NaN     T\n",
       " 2016-07-20      44   NaN   NaN     T\n",
       " 2016-07-21      33   NaN   NaN     T\n",
       " 2016-07-22      29   NaN   NaN     T\n",
       " 2016-07-23      22   NaN   NaN     T\n",
       " 2016-07-24      21   NaN   NaN     T\n",
       " 2016-07-25      21   NaN   NaN     T\n",
       " 2016-07-26      30   NaN   NaN     T\n",
       " 2016-07-27      17   NaN   NaN     T\n",
       " 2016-07-28      34   NaN   NaN     T\n",
       " 2016-07-29      31   NaN   NaN     T\n",
       " 2016-07-30      35   NaN   NaN     T\n",
       " ...            ...   ...   ...   ...\n",
       " 2016-11-01      45   NaN   NaN     T\n",
       " 2016-11-02      43   NaN   NaN     T\n",
       " 2016-11-03       9   NaN   NaN     T\n",
       " 2016-11-04      38   NaN   NaN     T\n",
       " 2016-11-05      39   NaN   NaN     T\n",
       " 2016-11-06      34   NaN   NaN     T\n",
       " 2016-11-07      10   NaN   NaN     T\n",
       " 2016-11-08      14   NaN   NaN     T\n",
       " 2016-11-09      29   NaN   NaN     T\n",
       " 2016-11-10      21   NaN   NaN     T\n",
       " 2016-11-11      27   NaN   NaN     T\n",
       " 2016-11-12     NaN   NaN   NaN   NaN\n",
       " 2016-11-13     NaN   NaN   NaN   NaN\n",
       " 2016-11-14     NaN   NaN   NaN   NaN\n",
       " 2016-11-15     NaN   NaN   NaN   NaN\n",
       " 2016-11-16     NaN   NaN   NaN   NaN\n",
       " 2016-11-17     NaN   NaN   NaN   NaN\n",
       " 2016-11-18     NaN   NaN   NaN   NaN\n",
       " 2016-11-19     NaN   NaN   NaN   NaN\n",
       " 2016-11-20     NaN   NaN   NaN   NaN\n",
       " 2016-11-21     NaN   NaN   NaN   NaN\n",
       " 2016-11-22     NaN   NaN   NaN   NaN\n",
       " 2016-11-23     NaN   NaN   NaN   NaN\n",
       " 2016-11-24     NaN   NaN   NaN   NaN\n",
       " 2016-11-25     NaN   NaN   NaN   NaN\n",
       " 2016-11-26     NaN   NaN   NaN   NaN\n",
       " 2016-11-27     NaN   NaN   NaN   NaN\n",
       " 2016-11-28     NaN   NaN   NaN   NaN\n",
       " 2016-11-29     NaN   NaN   NaN   NaN\n",
       " 2016-11-30     NaN   NaN   NaN   NaN\n",
       " \n",
       " [153 rows x 4 columns]}"
      ]
     },
     "execution_count": 20,
     "metadata": {},
     "output_type": "execute_result"
    }
   ],
   "source": [
    "data"
   ]
  },
  {
   "cell_type": "code",
   "execution_count": 21,
   "metadata": {
    "collapsed": true
   },
   "outputs": [],
   "source": [
    "tm = data['TMAX'].copy()"
   ]
  },
  {
   "cell_type": "code",
   "execution_count": 22,
   "metadata": {
    "collapsed": false
   },
   "outputs": [
    {
     "data": {
      "text/html": [
       "<div>\n",
       "<table border=\"1\" class=\"dataframe\">\n",
       "  <thead>\n",
       "    <tr style=\"text-align: right;\">\n",
       "      <th></th>\n",
       "      <th>value</th>\n",
       "      <th>mflag</th>\n",
       "      <th>qflag</th>\n",
       "      <th>sflag</th>\n",
       "    </tr>\n",
       "    <tr>\n",
       "      <th>month_period</th>\n",
       "      <th></th>\n",
       "      <th></th>\n",
       "      <th></th>\n",
       "      <th></th>\n",
       "    </tr>\n",
       "  </thead>\n",
       "  <tbody>\n",
       "    <tr>\n",
       "      <th>2007-09-01</th>\n",
       "      <td>NaN</td>\n",
       "      <td>NaN</td>\n",
       "      <td>NaN</td>\n",
       "      <td>NaN</td>\n",
       "    </tr>\n",
       "    <tr>\n",
       "      <th>2007-09-02</th>\n",
       "      <td>NaN</td>\n",
       "      <td>NaN</td>\n",
       "      <td>NaN</td>\n",
       "      <td>NaN</td>\n",
       "    </tr>\n",
       "    <tr>\n",
       "      <th>2007-09-03</th>\n",
       "      <td>NaN</td>\n",
       "      <td>NaN</td>\n",
       "      <td>NaN</td>\n",
       "      <td>NaN</td>\n",
       "    </tr>\n",
       "    <tr>\n",
       "      <th>2007-09-04</th>\n",
       "      <td>NaN</td>\n",
       "      <td>NaN</td>\n",
       "      <td>NaN</td>\n",
       "      <td>NaN</td>\n",
       "    </tr>\n",
       "    <tr>\n",
       "      <th>2007-09-05</th>\n",
       "      <td>NaN</td>\n",
       "      <td>NaN</td>\n",
       "      <td>NaN</td>\n",
       "      <td>NaN</td>\n",
       "    </tr>\n",
       "  </tbody>\n",
       "</table>\n",
       "</div>"
      ],
      "text/plain": [
       "             value mflag qflag sflag\n",
       "month_period                        \n",
       "2007-09-01     NaN   NaN   NaN   NaN\n",
       "2007-09-02     NaN   NaN   NaN   NaN\n",
       "2007-09-03     NaN   NaN   NaN   NaN\n",
       "2007-09-04     NaN   NaN   NaN   NaN\n",
       "2007-09-05     NaN   NaN   NaN   NaN"
      ]
     },
     "execution_count": 22,
     "metadata": {},
     "output_type": "execute_result"
    }
   ],
   "source": [
    "tm.head()"
   ]
  },
  {
   "cell_type": "code",
   "execution_count": 23,
   "metadata": {
    "collapsed": true
   },
   "outputs": [],
   "source": [
    "tm.value=tm.value/10.0"
   ]
  },
  {
   "cell_type": "code",
   "execution_count": 24,
   "metadata": {
    "collapsed": false
   },
   "outputs": [
    {
     "data": {
      "text/plain": [
       "<matplotlib.axes._subplots.AxesSubplot at 0x201003b6438>"
      ]
     },
     "execution_count": 24,
     "metadata": {},
     "output_type": "execute_result"
    },
    {
     "data": {
      "image/png": "[encoded data removed]",
      "text/plain": [
       "<matplotlib.figure.Figure at 0x2016b96cc18>"
      ]
     },
     "metadata": {},
     "output_type": "display_data"
    }
   ],
   "source": [
    "tm['value']['1950':'2016'].plot()"
   ]
  },
  {
   "cell_type": "code",
   "execution_count": 25,
   "metadata": {
    "collapsed": false
   },
   "outputs": [
    {
     "name": "stderr",
     "output_type": "stream",
     "text": [
      "E:\\Programs\\Anaconda3\\lib\\site-packages\\ipykernel\\__main__.py:1: FutureWarning: pd.rolling_mean is deprecated for Series and will be removed in a future version, replace with \n",
      "\tSeries.rolling(window=365,center=False,min_periods=2).mean()\n",
      "  if __name__ == '__main__':\n"
     ]
    },
    {
     "data": {
      "text/plain": [
       "<matplotlib.axes._subplots.AxesSubplot at 0x2010038d780>"
      ]
     },
     "execution_count": 25,
     "metadata": {},
     "output_type": "execute_result"
    },
    {
     "data": {
      "image/png": "[encoded data removed]",
      "text/plain": [
       "<matplotlib.figure.Figure at 0x2016b96c7b8>"
      ]
     },
     "metadata": {},
     "output_type": "display_data"
    }
   ],
   "source": [
    "pandas.rolling_mean(tm.value, window=365, min_periods=2).plot()"
   ]
  },
  {
   "cell_type": "code",
   "execution_count": 26,
   "metadata": {
    "collapsed": false
   },
   "outputs": [],
   "source": [
    "#foo = lambda z: z[pandas.notnull(z)].avg() \n",
    "#x = np.arange(10, dtype=\"float\")    \n",
    "#x[6] = np.NaN\n",
    "#x2 = pandas.Series(tm)    \n",
    "#pandas.rolling_apply(tm, 3, foo,min_periods=2)"
   ]
  },
  {
   "cell_type": "code",
   "execution_count": 27,
   "metadata": {
    "collapsed": true
   },
   "outputs": [],
   "source": [
    "tmin= data['TMIN'].copy()"
   ]
  },
  {
   "cell_type": "code",
   "execution_count": 28,
   "metadata": {
    "collapsed": true
   },
   "outputs": [],
   "source": [
    "tmin.value=tmin.value/10.0"
   ]
  },
  {
   "cell_type": "code",
   "execution_count": 29,
   "metadata": {
    "collapsed": false
   },
   "outputs": [
    {
     "data": {
      "text/plain": [
       "<matplotlib.axes._subplots.AxesSubplot at 0x201015f4160>"
      ]
     },
     "execution_count": 29,
     "metadata": {},
     "output_type": "execute_result"
    },
    {
     "data": {
      "image/png": "[encoded data removed]",
      "text/plain": [
       "<matplotlib.figure.Figure at 0x2010141f128>"
      ]
     },
     "metadata": {},
     "output_type": "display_data"
    }
   ],
   "source": [
    "tmin['value']['1950':'2016'].plot()"
   ]
  },
  {
   "cell_type": "code",
   "execution_count": 30,
   "metadata": {
    "collapsed": false
   },
   "outputs": [
    {
     "name": "stderr",
     "output_type": "stream",
     "text": [
      "E:\\Programs\\Anaconda3\\lib\\site-packages\\ipykernel\\__main__.py:1: FutureWarning: pd.rolling_mean is deprecated for Series and will be removed in a future version, replace with \n",
      "\tSeries.rolling(window=365,center=False,min_periods=2).mean()\n",
      "  if __name__ == '__main__':\n"
     ]
    },
    {
     "data": {
      "text/plain": [
       "<matplotlib.axes._subplots.AxesSubplot at 0x2010085d5f8>"
      ]
     },
     "execution_count": 30,
     "metadata": {},
     "output_type": "execute_result"
    },
    {
     "data": {
      "image/png": "[encoded data removed]",
      "text/plain": [
       "<matplotlib.figure.Figure at 0x201000d7e80>"
      ]
     },
     "metadata": {},
     "output_type": "display_data"
    }
   ],
   "source": [
    "pandas.rolling_mean(tmin.value, window=365, min_periods=2).plot()"
   ]
  },
  {
   "cell_type": "code",
   "execution_count": null,
   "metadata": {
    "collapsed": true
   },
   "outputs": [],
   "source": []
  },
  {
   "cell_type": "code",
   "execution_count": 31,
   "metadata": {
    "collapsed": false
   },
   "outputs": [],
   "source": [
    "awnd= data['AWND'].copy()"
   ]
  },
  {
   "cell_type": "code",
   "execution_count": 32,
   "metadata": {
    "collapsed": false
   },
   "outputs": [
    {
     "data": {
      "text/plain": [
       "dict_keys(['SNWD', 'AWDR', 'TMAX', 'PRCP', 'TMIN', 'WSFI', 'TAVG', 'WESD', 'TOBS', 'AWND'])"
      ]
     },
     "execution_count": 32,
     "metadata": {},
     "output_type": "execute_result"
    }
   ],
   "source": [
    "data.keys()"
   ]
  },
  {
   "cell_type": "code",
   "execution_count": 33,
   "metadata": {
    "collapsed": true
   },
   "outputs": [],
   "source": [
    "awnd.value=awnd.value/10.0"
   ]
  },
  {
   "cell_type": "code",
   "execution_count": 59,
   "metadata": {
    "collapsed": false
   },
   "outputs": [
    {
     "data": {
      "text/plain": [
       "<matplotlib.axes._subplots.AxesSubplot at 0x20101438e48>"
      ]
     },
     "execution_count": 59,
     "metadata": {},
     "output_type": "execute_result"
    },
    {
     "data": {
      "image/png": "[encoded data removed]",
      "text/plain": [
       "<matplotlib.figure.Figure at 0x2010142dc18>"
      ]
     },
     "metadata": {},
     "output_type": "display_data"
    }
   ],
   "source": [
    "awnd['value']['2008':'2016'].plot()"
   ]
  },
  {
   "cell_type": "code",
   "execution_count": 35,
   "metadata": {
    "collapsed": true
   },
   "outputs": [],
   "source": [
    "tm.value = tm.value.astype('float')"
   ]
  },
  {
   "cell_type": "code",
   "execution_count": 36,
   "metadata": {
    "collapsed": false
   },
   "outputs": [
    {
     "name": "stderr",
     "output_type": "stream",
     "text": [
      "E:\\Programs\\Anaconda3\\lib\\site-packages\\ipykernel\\__main__.py:1: FutureWarning: .resample() is now a deferred operation\n",
      "use .resample(...).mean() instead of .resample(...)\n",
      "  if __name__ == '__main__':\n"
     ]
    },
    {
     "data": {
      "text/plain": [
       "<matplotlib.text.Text at 0x2016bade940>"
      ]
     },
     "execution_count": 36,
     "metadata": {},
     "output_type": "execute_result"
    },
    {
     "data": {
      "image/png": "[encoded data removed]",
      "text/plain": [
       "<matplotlib.figure.Figure at 0x20102225978>"
      ]
     },
     "metadata": {},
     "output_type": "display_data"
    }
   ],
   "source": [
    "tm['1950':'2012'].value.resample('A').plot()\n",
    "title('Annual mean daily maximum temperature at Hayden Pass')"
   ]
  },
  {
   "cell_type": "code",
   "execution_count": 38,
   "metadata": {
    "collapsed": false
   },
   "outputs": [],
   "source": [
    "awnd.value = awnd.value.astype('float')"
   ]
  },
  {
   "cell_type": "code",
   "execution_count": 53,
   "metadata": {
    "collapsed": false
   },
   "outputs": [
    {
     "data": {
      "text/plain": [
       "<matplotlib.axes._subplots.AxesSubplot at 0x2010056ef60>"
      ]
     },
     "execution_count": 53,
     "metadata": {},
     "output_type": "execute_result"
    },
    {
     "data": {
      "image/png": "[encoded data removed]",
      "text/plain": [
       "<matplotlib.figure.Figure at 0x20100b4ee10>"
      ]
     },
     "metadata": {},
     "output_type": "display_data"
    }
   ],
   "source": [
    "awnd.value.hist()"
   ]
  },
  {
   "cell_type": "code",
   "execution_count": 62,
   "metadata": {
    "collapsed": false
   },
   "outputs": [
    {
     "name": "stderr",
     "output_type": "stream",
     "text": [
      "E:\\Programs\\Anaconda3\\lib\\site-packages\\ipykernel\\__main__.py:1: FutureWarning: .resample() is now a deferred operation\n",
      "use .resample(...).mean() instead of .resample(...)\n",
      "  if __name__ == '__main__':\n"
     ]
    },
    {
     "data": {
      "text/plain": [
       "<matplotlib.text.Text at 0x20101a0b390>"
      ]
     },
     "execution_count": 62,
     "metadata": {},
     "output_type": "execute_result"
    },
    {
     "data": {
      "image/png": "[encoded data removed]",
      "text/plain": [
       "<matplotlib.figure.Figure at 0x20101a102e8>"
      ]
     },
     "metadata": {},
     "output_type": "display_data"
    }
   ],
   "source": [
    "awnd['2008':'2016'].value.resample('3D').plot() #resample 3 days\n",
    "title('Annual mean daily average windspeed at Hayden Pass')"
   ]
  },
  {
   "cell_type": "code",
   "execution_count": null,
   "metadata": {
    "collapsed": true
   },
   "outputs": [],
   "source": []
  }
 ],
 "metadata": {
  "anaconda-cloud": {},
  "kernelspec": {
   "display_name": "Python [Root]",
   "language": "python",
   "name": "Python [Root]"
  },
  "language_info": {
   "codemirror_mode": {
    "name": "ipython",
    "version": 3
   },
   "file_extension": ".py",
   "mimetype": "text/x-python",
   "name": "python",
   "nbconvert_exporter": "python",
   "pygments_lexer": "ipython3",
   "version": "3.5.1"
  }
 },
 "nbformat": 4,
 "nbformat_minor": 0
}
