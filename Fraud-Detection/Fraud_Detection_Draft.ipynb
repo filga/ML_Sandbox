{
 "cells": [
  {
   "cell_type": "code",
   "execution_count": 32,
   "metadata": {
    "collapsed": false
   },
   "outputs": [],
   "source": [
    "%matplotlib inline\n",
    "\n",
    "from sklearn.linear_model import LinearRegression\n",
    "from sklearn.linear_model import LogisticRegression\n",
    "from sklearn.ensemble import RandomForestRegressor\n",
    "from sklearn.ensemble import RandomForestClassifier\n",
    "from sklearn.metrics import classification_report\n",
    "from sklearn.metrics import roc_auc_score as AUC\n",
    "from sklearn import cross_validation\n",
    "import sklearn.metrics\n",
    "from sklearn import preprocessing\n",
    "from sklearn.preprocessing import MinMaxScaler\n",
    "from sklearn.cross_validation import train_test_split\n",
    "\n",
    "import urllib\n",
    "from math import sqrt\n",
    "from sklearn import tree\n",
    "import pylab as pl\n",
    "import pandas as pd\n",
    "import numpy as np\n",
    "import matplotlib.pyplot as plt \n",
    "import StringIO\n",
    "#from pydot import graph_from_dot_data as gdot\n",
    "from sklearn.externals.six import StringIO"
   ]
  },
  {
   "cell_type": "code",
   "execution_count": 5,
   "metadata": {
    "collapsed": false
   },
   "outputs": [],
   "source": [
    "#Simply replace the directory name where your data are stored\n",
    "#Directory = r'/media/galeazzi/BIGFORK/KaggleData/FraudDataSet/'\n",
    "Directory = r'E:\\\\Projects\\\\ML_Sandbox\\\\Fraud-Detection\\\\'\n",
    "rawData  = pd.read_csv(Directory+'DataSet.csv',sep=';')"
   ]
  },
  {
   "cell_type": "code",
   "execution_count": 6,
   "metadata": {
    "collapsed": false
   },
   "outputs": [
    {
     "data": {
      "text/html": [
       "<div>\n",
       "<table border=\"1\" class=\"dataframe\">\n",
       "  <thead>\n",
       "    <tr style=\"text-align: right;\">\n",
       "      <th></th>\n",
       "      <th>IsFraud</th>\n",
       "      <th>UserId</th>\n",
       "      <th>Age</th>\n",
       "      <th>RegWeekDay</th>\n",
       "      <th>RegHour</th>\n",
       "      <th>MobileFlag</th>\n",
       "      <th>TVFlag</th>\n",
       "      <th>RegistrationId</th>\n",
       "      <th>FamilyStatusId</th>\n",
       "      <th>SexualityId</th>\n",
       "      <th>TrackingcodeFlag</th>\n",
       "      <th>ResidenceCountryId</th>\n",
       "      <th>RegCountryEqualsIpCountryFlag</th>\n",
       "    </tr>\n",
       "  </thead>\n",
       "  <tbody>\n",
       "    <tr>\n",
       "      <th>count</th>\n",
       "      <td>10000.000000</td>\n",
       "      <td>10000.000000</td>\n",
       "      <td>10000.000000</td>\n",
       "      <td>10000.000000</td>\n",
       "      <td>10000.000000</td>\n",
       "      <td>10000.000000</td>\n",
       "      <td>10000.000000</td>\n",
       "      <td>10000.000000</td>\n",
       "      <td>10000.000000</td>\n",
       "      <td>10000.000000</td>\n",
       "      <td>10000.000000</td>\n",
       "      <td>10000.000000</td>\n",
       "      <td>10000.000000</td>\n",
       "    </tr>\n",
       "    <tr>\n",
       "      <th>mean</th>\n",
       "      <td>0.505300</td>\n",
       "      <td>57591.673500</td>\n",
       "      <td>35.075700</td>\n",
       "      <td>3.040000</td>\n",
       "      <td>12.715900</td>\n",
       "      <td>0.052400</td>\n",
       "      <td>0.031000</td>\n",
       "      <td>997.750100</td>\n",
       "      <td>1.366200</td>\n",
       "      <td>1.056800</td>\n",
       "      <td>0.446500</td>\n",
       "      <td>22.214000</td>\n",
       "      <td>0.584600</td>\n",
       "    </tr>\n",
       "    <tr>\n",
       "      <th>std</th>\n",
       "      <td>0.499997</td>\n",
       "      <td>33312.311649</td>\n",
       "      <td>10.094046</td>\n",
       "      <td>2.030865</td>\n",
       "      <td>6.939467</td>\n",
       "      <td>0.222843</td>\n",
       "      <td>0.173326</td>\n",
       "      <td>1103.965371</td>\n",
       "      <td>0.716344</td>\n",
       "      <td>0.299304</td>\n",
       "      <td>0.497154</td>\n",
       "      <td>17.734234</td>\n",
       "      <td>0.492816</td>\n",
       "    </tr>\n",
       "    <tr>\n",
       "      <th>min</th>\n",
       "      <td>0.000000</td>\n",
       "      <td>2.000000</td>\n",
       "      <td>18.000000</td>\n",
       "      <td>0.000000</td>\n",
       "      <td>0.000000</td>\n",
       "      <td>0.000000</td>\n",
       "      <td>0.000000</td>\n",
       "      <td>1.000000</td>\n",
       "      <td>1.000000</td>\n",
       "      <td>1.000000</td>\n",
       "      <td>0.000000</td>\n",
       "      <td>1.000000</td>\n",
       "      <td>0.000000</td>\n",
       "    </tr>\n",
       "    <tr>\n",
       "      <th>25%</th>\n",
       "      <td>0.000000</td>\n",
       "      <td>28760.500000</td>\n",
       "      <td>28.000000</td>\n",
       "      <td>1.000000</td>\n",
       "      <td>7.000000</td>\n",
       "      <td>0.000000</td>\n",
       "      <td>0.000000</td>\n",
       "      <td>246.000000</td>\n",
       "      <td>1.000000</td>\n",
       "      <td>1.000000</td>\n",
       "      <td>0.000000</td>\n",
       "      <td>8.000000</td>\n",
       "      <td>0.000000</td>\n",
       "    </tr>\n",
       "    <tr>\n",
       "      <th>50%</th>\n",
       "      <td>1.000000</td>\n",
       "      <td>57478.500000</td>\n",
       "      <td>32.000000</td>\n",
       "      <td>3.000000</td>\n",
       "      <td>14.000000</td>\n",
       "      <td>0.000000</td>\n",
       "      <td>0.000000</td>\n",
       "      <td>801.000000</td>\n",
       "      <td>1.000000</td>\n",
       "      <td>1.000000</td>\n",
       "      <td>0.000000</td>\n",
       "      <td>15.000000</td>\n",
       "      <td>1.000000</td>\n",
       "    </tr>\n",
       "    <tr>\n",
       "      <th>75%</th>\n",
       "      <td>1.000000</td>\n",
       "      <td>86268.750000</td>\n",
       "      <td>42.000000</td>\n",
       "      <td>5.000000</td>\n",
       "      <td>19.000000</td>\n",
       "      <td>0.000000</td>\n",
       "      <td>0.000000</td>\n",
       "      <td>827.000000</td>\n",
       "      <td>1.000000</td>\n",
       "      <td>1.000000</td>\n",
       "      <td>1.000000</td>\n",
       "      <td>43.000000</td>\n",
       "      <td>1.000000</td>\n",
       "    </tr>\n",
       "    <tr>\n",
       "      <th>max</th>\n",
       "      <td>1.000000</td>\n",
       "      <td>115657.000000</td>\n",
       "      <td>91.000000</td>\n",
       "      <td>6.000000</td>\n",
       "      <td>23.000000</td>\n",
       "      <td>1.000000</td>\n",
       "      <td>1.000000</td>\n",
       "      <td>4596.000000</td>\n",
       "      <td>3.000000</td>\n",
       "      <td>3.000000</td>\n",
       "      <td>1.000000</td>\n",
       "      <td>53.000000</td>\n",
       "      <td>1.000000</td>\n",
       "    </tr>\n",
       "  </tbody>\n",
       "</table>\n",
       "</div>"
      ],
      "text/plain": [
       "            IsFraud         UserId           Age    RegWeekDay       RegHour  \\\n",
       "count  10000.000000   10000.000000  10000.000000  10000.000000  10000.000000   \n",
       "mean       0.505300   57591.673500     35.075700      3.040000     12.715900   \n",
       "std        0.499997   33312.311649     10.094046      2.030865      6.939467   \n",
       "min        0.000000       2.000000     18.000000      0.000000      0.000000   \n",
       "25%        0.000000   28760.500000     28.000000      1.000000      7.000000   \n",
       "50%        1.000000   57478.500000     32.000000      3.000000     14.000000   \n",
       "75%        1.000000   86268.750000     42.000000      5.000000     19.000000   \n",
       "max        1.000000  115657.000000     91.000000      6.000000     23.000000   \n",
       "\n",
       "         MobileFlag        TVFlag  RegistrationId  FamilyStatusId  \\\n",
       "count  10000.000000  10000.000000    10000.000000    10000.000000   \n",
       "mean       0.052400      0.031000      997.750100        1.366200   \n",
       "std        0.222843      0.173326     1103.965371        0.716344   \n",
       "min        0.000000      0.000000        1.000000        1.000000   \n",
       "25%        0.000000      0.000000      246.000000        1.000000   \n",
       "50%        0.000000      0.000000      801.000000        1.000000   \n",
       "75%        0.000000      0.000000      827.000000        1.000000   \n",
       "max        1.000000      1.000000     4596.000000        3.000000   \n",
       "\n",
       "        SexualityId  TrackingcodeFlag  ResidenceCountryId  \\\n",
       "count  10000.000000      10000.000000        10000.000000   \n",
       "mean       1.056800          0.446500           22.214000   \n",
       "std        0.299304          0.497154           17.734234   \n",
       "min        1.000000          0.000000            1.000000   \n",
       "25%        1.000000          0.000000            8.000000   \n",
       "50%        1.000000          0.000000           15.000000   \n",
       "75%        1.000000          1.000000           43.000000   \n",
       "max        3.000000          1.000000           53.000000   \n",
       "\n",
       "       RegCountryEqualsIpCountryFlag  \n",
       "count                   10000.000000  \n",
       "mean                        0.584600  \n",
       "std                         0.492816  \n",
       "min                         0.000000  \n",
       "25%                         0.000000  \n",
       "50%                         1.000000  \n",
       "75%                         1.000000  \n",
       "max                         1.000000  "
      ]
     },
     "execution_count": 6,
     "metadata": {},
     "output_type": "execute_result"
    }
   ],
   "source": [
    "#Quick look at the dataset\n",
    "rawData.describe()"
   ]
  },
  {
   "cell_type": "code",
   "execution_count": 7,
   "metadata": {
    "collapsed": false
   },
   "outputs": [
    {
     "data": {
      "text/plain": [
       "IsFraud                           int64\n",
       "UserId                            int64\n",
       "Age                               int64\n",
       "RegWeekDay                        int64\n",
       "RegHour                           int64\n",
       "BranchId                         object\n",
       "MobileFlag                        int64\n",
       "TVFlag                            int64\n",
       "RegistrationId                    int64\n",
       "FamilyStatusId                    int64\n",
       "SexualityId                       int64\n",
       "TrackingcodeFlag                  int64\n",
       "ResidenceCountryId                int64\n",
       "EmailHostID                      object\n",
       "IpCountryId                      object\n",
       "RegCountryEqualsIpCountryFlag     int64\n",
       "dtype: object"
      ]
     },
     "execution_count": 7,
     "metadata": {},
     "output_type": "execute_result"
    }
   ],
   "source": [
    "rawData.dtypes"
   ]
  },
  {
   "cell_type": "code",
   "execution_count": 8,
   "metadata": {
    "collapsed": false
   },
   "outputs": [],
   "source": [
    "from copy import deepcopy\n",
    "freudDs = deepcopy(rawData)"
   ]
  },
  {
   "cell_type": "code",
   "execution_count": 9,
   "metadata": {
    "collapsed": true
   },
   "outputs": [],
   "source": [
    "freudDs.EmailHostID = rawData.EmailHostID.astype('category')\n",
    "freudDs.BranchId = rawData.BranchId.astype('category')\n",
    "freudDs.IpCountryId = rawData.IpCountryId.astype('category')"
   ]
  },
  {
   "cell_type": "code",
   "execution_count": 10,
   "metadata": {
    "collapsed": false
   },
   "outputs": [],
   "source": [
    "#As recommended in the description of the exercise I split the dataset in a training set randomly sampled\n",
    "#and the remaining 30% will be used to test my prediction model.\n",
    "y = freudDs.pop('IsFraud')\n",
    "X = freudDs\n",
    "X_train, X_test, y_train, y_test = train_test_split(X, y, test_size=0.3)"
   ]
  },
  {
   "cell_type": "code",
   "execution_count": 11,
   "metadata": {
    "collapsed": true
   },
   "outputs": [],
   "source": [
    "allNcVars = list(freudDs.dtypes[X_train.dtypes == 'int64'].index)"
   ]
  },
  {
   "cell_type": "code",
   "execution_count": 12,
   "metadata": {
    "collapsed": false
   },
   "outputs": [],
   "source": [
    "X_train = pd.get_dummies(X_train)\n",
    "X_test = pd.get_dummies(X_test)"
   ]
  },
  {
   "cell_type": "code",
   "execution_count": 13,
   "metadata": {
    "collapsed": true
   },
   "outputs": [],
   "source": [
    "#Scaling the features\n",
    "for l in allNcVars:\n",
    "    X_train[l]=preprocessing.scale(X_train[l].astype('float64'))\n",
    "    X_test[l]=preprocessing.scale(X_test[l].astype('float64'))"
   ]
  },
  {
   "cell_type": "code",
   "execution_count": 267,
   "metadata": {
    "collapsed": false
   },
   "outputs": [],
   "source": [
    "#pd.scatter_matrix(train, alpha=0.2, figsize=(25, 25), diagonal='hist');"
   ]
  },
  {
   "cell_type": "code",
   "execution_count": 14,
   "metadata": {
    "collapsed": false
   },
   "outputs": [
    {
     "data": {
      "text/plain": [
       "UserId                           float64\n",
       "Age                              float64\n",
       "RegWeekDay                       float64\n",
       "RegHour                          float64\n",
       "MobileFlag                       float64\n",
       "TVFlag                           float64\n",
       "RegistrationId                   float64\n",
       "FamilyStatusId                   float64\n",
       "SexualityId                      float64\n",
       "TrackingcodeFlag                 float64\n",
       "ResidenceCountryId               float64\n",
       "RegCountryEqualsIpCountryFlag    float64\n",
       "BranchId_AB                      float64\n",
       "BranchId_AC                      float64\n",
       "BranchId_BC                      float64\n",
       "BranchId_BD                      float64\n",
       "BranchId_CB                      float64\n",
       "BranchId_CD                      float64\n",
       "BranchId_CE                      float64\n",
       "BranchId_DC                      float64\n",
       "BranchId_DE                      float64\n",
       "BranchId_DF                      float64\n",
       "BranchId_EF                      float64\n",
       "BranchId_EG                      float64\n",
       "BranchId_FE                      float64\n",
       "BranchId_FG                      float64\n",
       "BranchId_FH                      float64\n",
       "BranchId_GF                      float64\n",
       "BranchId_GH                      float64\n",
       "BranchId_GI                      float64\n",
       "                                  ...   \n",
       "IpCountryId_OK                   float64\n",
       "IpCountryId_OL                   float64\n",
       "IpCountryId_PL                   float64\n",
       "IpCountryId_PM                   float64\n",
       "IpCountryId_PN                   float64\n",
       "IpCountryId_PO                   float64\n",
       "IpCountryId_PR                   float64\n",
       "IpCountryId_QN                   float64\n",
       "IpCountryId_QO                   float64\n",
       "IpCountryId_QR                   float64\n",
       "IpCountryId_QS                   float64\n",
       "IpCountryId_RQ                   float64\n",
       "IpCountryId_RT                   float64\n",
       "IpCountryId_SP                   float64\n",
       "IpCountryId_SR                   float64\n",
       "IpCountryId_ST                   float64\n",
       "IpCountryId_TU                   float64\n",
       "IpCountryId_UR                   float64\n",
       "IpCountryId_US                   float64\n",
       "IpCountryId_UT                   float64\n",
       "IpCountryId_UV                   float64\n",
       "IpCountryId_UW                   float64\n",
       "IpCountryId_VS                   float64\n",
       "IpCountryId_VX                   float64\n",
       "IpCountryId_WU                   float64\n",
       "IpCountryId_WV                   float64\n",
       "IpCountryId_WX                   float64\n",
       "IpCountryId_XA                   float64\n",
       "IpCountryId_XB                   float64\n",
       "IpCountryId_XU                   float64\n",
       "dtype: object"
      ]
     },
     "execution_count": 14,
     "metadata": {},
     "output_type": "execute_result"
    }
   ],
   "source": [
    "labels = X_train.columns\n",
    "X_train.dtypes"
   ]
  },
  {
   "cell_type": "code",
   "execution_count": 15,
   "metadata": {
    "collapsed": false
   },
   "outputs": [],
   "source": [
    "# create the decision tree \n",
    "dt_train = tree.DecisionTreeClassifier(max_depth=30, min_samples_leaf=1)\n",
    "dt_train.fit(X_train,y_train)\n",
    "tree.export_graphviz(dt_train,feature_names=labels, out_file='tree_train.dot')"
   ]
  },
  {
   "cell_type": "code",
   "execution_count": 16,
   "metadata": {
    "collapsed": false
   },
   "outputs": [],
   "source": [
    "import io\n",
    "from scipy import misc\n",
    "import sklearn.tree as tree"
   ]
  },
  {
   "cell_type": "code",
   "execution_count": 17,
   "metadata": {
    "collapsed": false
   },
   "outputs": [],
   "source": [
    "def show_tree(decisionTree, file_path):\n",
    "    dotfile = io.StringIO(unicode(file_path))\n",
    "    tree.export_graphviz(decisionTree, out_file=dotfile)\n",
    "    pydot.graph_from_dot_data(dotfile.getvalue()).write_png(file_path)\n",
    "    i = misc.imread(file_path)\n",
    "    plt.imshow(i)"
   ]
  },
  {
   "cell_type": "code",
   "execution_count": 18,
   "metadata": {
    "collapsed": false
   },
   "outputs": [],
   "source": [
    "# To use it\n",
    "#show_tree(dt_train, 'tree_train.dot') "
   ]
  },
  {
   "cell_type": "code",
   "execution_count": 19,
   "metadata": {
    "collapsed": false
   },
   "outputs": [],
   "source": [
    "rfr_mod = RandomForestClassifier(n_estimators=30, oob_score=True, random_state=42, n_jobs=-1)"
   ]
  },
  {
   "cell_type": "code",
   "execution_count": 20,
   "metadata": {
    "collapsed": false
   },
   "outputs": [
    {
     "name": "stdout",
     "output_type": "stream",
     "text": [
      "1 loop, best of 3: 220 ms per loop\n"
     ]
    }
   ],
   "source": [
    "%%timeit\n",
    "rfr_mod.fit(X_train,y_train)"
   ]
  },
  {
   "cell_type": "code",
   "execution_count": 110,
   "metadata": {
    "collapsed": false
   },
   "outputs": [],
   "source": [
    "#i_tree = 0\n",
    "#for tree_in_forest in rfr_mod.estimators_:\n",
    "#    print(rfr_mod.getmembers(tree_in_forest.tree_))\n",
    "#    with open('tree_RF_' + str(i_tree) + '.dot', 'w') as my_file:\n",
    "#        my_file = tree.export_graphviz(tree_in_forest, out_file = my_file)\n",
    "#    i_tree = i_tree + 1"
   ]
  },
  {
   "cell_type": "code",
   "execution_count": 21,
   "metadata": {
    "collapsed": false
   },
   "outputs": [
    {
     "name": "stdout",
     "output_type": "stream",
     "text": [
      "0.0732857142857\n"
     ]
    }
   ],
   "source": [
    "err = 1. - rfr_mod.oob_score_\n",
    "print err"
   ]
  },
  {
   "cell_type": "code",
   "execution_count": 22,
   "metadata": {
    "collapsed": false
   },
   "outputs": [],
   "source": [
    "test_predict = rfr_mod.predict(X_test)"
   ]
  },
  {
   "cell_type": "code",
   "execution_count": 23,
   "metadata": {
    "collapsed": false
   },
   "outputs": [
    {
     "data": {
      "text/html": [
       "<div>\n",
       "<table border=\"1\" class=\"dataframe\">\n",
       "  <thead>\n",
       "    <tr style=\"text-align: right;\">\n",
       "      <th>preds</th>\n",
       "      <th>0</th>\n",
       "      <th>1</th>\n",
       "    </tr>\n",
       "    <tr>\n",
       "      <th>actual</th>\n",
       "      <th></th>\n",
       "      <th></th>\n",
       "    </tr>\n",
       "  </thead>\n",
       "  <tbody>\n",
       "    <tr>\n",
       "      <th>0</th>\n",
       "      <td>1393</td>\n",
       "      <td>63</td>\n",
       "    </tr>\n",
       "    <tr>\n",
       "      <th>1</th>\n",
       "      <td>143</td>\n",
       "      <td>1401</td>\n",
       "    </tr>\n",
       "  </tbody>\n",
       "</table>\n",
       "</div>"
      ],
      "text/plain": [
       "preds      0     1\n",
       "actual            \n",
       "0       1393    63\n",
       "1        143  1401"
      ]
     },
     "execution_count": 23,
     "metadata": {},
     "output_type": "execute_result"
    }
   ],
   "source": [
    "pd.crosstab(y_test, test_predict, rownames=['actual'], colnames=['preds'])"
   ]
  },
  {
   "cell_type": "code",
   "execution_count": 24,
   "metadata": {
    "collapsed": false
   },
   "outputs": [
    {
     "data": {
      "image/png": "[encoded data removed]",
      "text/plain": [
       "<matplotlib.figure.Figure at 0x9f1cac8>"
      ]
     },
     "metadata": {},
     "output_type": "display_data"
    }
   ],
   "source": [
    "features_importance = pd.Series(rfr_mod.feature_importances_, index=X_train.columns.values)\n",
    "features_importance.sort_values(inplace=True)\n",
    "features_importance.plot(kind=\"barh\", figsize=(25,25));"
   ]
  },
  {
   "cell_type": "code",
   "execution_count": 27,
   "metadata": {
    "collapsed": false
   },
   "outputs": [
    {
     "data": {
      "text/plain": [
       "array([ 0.96332454,  0.9656711 ,  0.96453729])"
      ]
     },
     "execution_count": 27,
     "metadata": {},
     "output_type": "execute_result"
    }
   ],
   "source": [
    "cross_validation.cross_val_score(rfr_mod, X_test, y_test, scoring='roc_auc')"
   ]
  },
  {
   "cell_type": "code",
   "execution_count": 33,
   "metadata": {
    "collapsed": false
   },
   "outputs": [
    {
     "data": {
      "text/plain": [
       "<matplotlib.text.Text at 0xca15da0>"
      ]
     },
     "execution_count": 33,
     "metadata": {},
     "output_type": "execute_result"
    },
    {
     "data": {
      "image/png": "[encoded data removed]",
      "text/plain": [
       "<matplotlib.figure.Figure at 0xc847978>"
      ]
     },
     "metadata": {},
     "output_type": "display_data"
    }
   ],
   "source": [
    "\"\"\"\n",
    "Importance of number of trees in the random forest.\n",
    "Running a different number of trees and see the effect\n",
    " of that on the accuracy of the prediction\n",
    "\"\"\"\n",
    "idx_list = range(1, 20)\n",
    " \n",
    "# loop over tree counts, doing 5 fits per count\n",
    "accuracy_mean = []\n",
    "accuracy_stddev = []\n",
    "\n",
    "for idx in idx_list:\n",
    "    accuracy = []\n",
    "    for i in range(0,5):\n",
    "        classifier = RandomForestClassifier(n_estimators=idx, oob_score=True, n_jobs=-1)\n",
    "        classifier = classifier.fit(X_train,y_train)\n",
    "        predictions = classifier.predict(X_test)\n",
    "        accuracy.append(sklearn.metrics.accuracy_score(y_test, predictions))\n",
    "    accuracy_mean.append(np.mean(accuracy))\n",
    "    accuracy_stddev.append(np.std(accuracy))\n",
    "    \n",
    "plt.cla()\n",
    "plt.plot(idx_list, accuracy_mean)\n",
    "plt.errorbar(idx_list, accuracy_mean, yerr=accuracy_stddev, fmt='-o')\n",
    "plt.xlabel('Number of trees in fit')\n",
    "plt.ylabel('Model accuracy')\n",
    "\n",
    "plt.title('Random Forest Tree Count Analysis')"
   ]
  },
  {
   "cell_type": "code",
   "execution_count": 34,
   "metadata": {
    "collapsed": false
   },
   "outputs": [
    {
     "data": {
      "text/plain": [
       "SVC(C=1.0, cache_size=200, class_weight=None, coef0=0.0,\n",
       "  decision_function_shape=None, degree=3, gamma='auto', kernel='rbf',\n",
       "  max_iter=-1, probability=False, random_state=None, shrinking=True,\n",
       "  tol=0.001, verbose=False)"
      ]
     },
     "execution_count": 34,
     "metadata": {},
     "output_type": "execute_result"
    }
   ],
   "source": [
    "from sklearn import svm\n",
    "clf = svm.SVC(kernel='rbf')\n",
    "clf.fit(X_train, y_train)"
   ]
  },
  {
   "cell_type": "code",
   "execution_count": 286,
   "metadata": {
    "collapsed": false
   },
   "outputs": [],
   "source": [
    "scores = cross_validation.cross_val_score(clf, X_train, y_train, cv=5)"
   ]
  },
  {
   "cell_type": "code",
   "execution_count": 287,
   "metadata": {
    "collapsed": false
   },
   "outputs": [
    {
     "name": "stdout",
     "output_type": "stream",
     "text": [
      "Accuracy: 0.92 (+/- 0.01)\n"
     ]
    }
   ],
   "source": [
    "print(\"Accuracy: %0.2f (+/- %0.2f)\" % (scores.mean(), scores.std() * 2))"
   ]
  },
  {
   "cell_type": "code",
   "execution_count": 279,
   "metadata": {
    "collapsed": false
   },
   "outputs": [
    {
     "data": {
      "text/plain": [
       "array([ 0.96114784,  0.96228664,  0.95950106])"
      ]
     },
     "execution_count": 279,
     "metadata": {},
     "output_type": "execute_result"
    }
   ],
   "source": [
    "cross_validation.cross_val_score(clf, X_test, y_test, scoring='roc_auc')"
   ]
  },
  {
   "cell_type": "code",
   "execution_count": 35,
   "metadata": {
    "collapsed": false
   },
   "outputs": [
    {
     "name": "stdout",
     "output_type": "stream",
     "text": [
      "[LibSVM]"
     ]
    },
    {
     "data": {
      "text/plain": [
       "SVC(C=173, cache_size=200, class_weight=None, coef0=0.0,\n",
       "  decision_function_shape=None, degree=3, gamma=1.31e-05, kernel='rbf',\n",
       "  max_iter=-1, probability=True, random_state=None, shrinking=True,\n",
       "  tol=0.001, verbose=True)"
      ]
     },
     "execution_count": 35,
     "metadata": {},
     "output_type": "execute_result"
    }
   ],
   "source": [
    "C = 173\n",
    "gamma = 1.31e-5\n",
    "shrinking = True\n",
    "\n",
    "probability = True\n",
    "verbose = True\n",
    "\n",
    "svc = svm.SVC( C = C, gamma = gamma, shrinking = shrinking, probability = probability, verbose = verbose )\n",
    "svc.fit( X_train, y_train )"
   ]
  },
  {
   "cell_type": "code",
   "execution_count": 36,
   "metadata": {
    "collapsed": false
   },
   "outputs": [
    {
     "name": "stdout",
     "output_type": "stream",
     "text": [
      "0.957821930337\n"
     ]
    }
   ],
   "source": [
    "p = svc.predict_proba( X_test )\t\n",
    "auc = AUC( y_test, p[:,1] )\n",
    "print auc"
   ]
  },
  {
   "cell_type": "code",
   "execution_count": 37,
   "metadata": {
    "collapsed": false
   },
   "outputs": [
    {
     "name": "stdout",
     "output_type": "stream",
     "text": [
      "[LibSVM][LibSVM][LibSVM][LibSVM][LibSVM]Accuracy: 0.92 (+/- 0.02)\n"
     ]
    }
   ],
   "source": [
    "scores = cross_validation.cross_val_score(svc, X_train, y_train, cv=5)\n",
    "print(\"Accuracy: %0.2f (+/- %0.2f)\" % (scores.mean(), scores.std() * 2))"
   ]
  },
  {
   "cell_type": "code",
   "execution_count": 38,
   "metadata": {
    "collapsed": false
   },
   "outputs": [
    {
     "data": {
      "text/plain": [
       "array([1, 1, 0, ..., 1, 0, 1], dtype=int64)"
      ]
     },
     "execution_count": 38,
     "metadata": {},
     "output_type": "execute_result"
    }
   ],
   "source": [
    "from sklearn.feature_selection import SelectKBest, f_regression\n",
    "from sklearn.pipeline import make_pipeline\n",
    "\n",
    "# ANOVA SVM-C\n",
    "# 1) anova filter, take 3 best ranked features\n",
    "anova_filter = SelectKBest(f_regression, k=3)\n",
    "# 2) svm\n",
    "clf = svm.SVC(kernel='rbf')\n",
    "\n",
    "anova_svm = make_pipeline(anova_filter, clf)\n",
    "anova_svm.fit(X_train, y_train)\n",
    "anova_svm.predict(X_test)"
   ]
  },
  {
   "cell_type": "code",
   "execution_count": 39,
   "metadata": {
    "collapsed": false
   },
   "outputs": [
    {
     "name": "stdout",
     "output_type": "stream",
     "text": [
      "Accuracy: 0.91 (+/- 0.02)\n"
     ]
    }
   ],
   "source": [
    "scores = cross_validation.cross_val_score(anova_svm, X_train, y_train, cv=5)\n",
    "print(\"Accuracy: %0.2f (+/- %0.2f)\" % (scores.mean(), scores.std() * 2))"
   ]
  },
  {
   "cell_type": "markdown",
   "metadata": {},
   "source": [
    "Start an ANN for the predictive model but not done yet."
   ]
  },
  {
   "cell_type": "code",
   "execution_count": null,
   "metadata": {
    "collapsed": false
   },
   "outputs": [],
   "source": [
    "import theano"
   ]
  },
  {
   "cell_type": "code",
   "execution_count": null,
   "metadata": {
    "collapsed": false
   },
   "outputs": [],
   "source": [
    "theano.config.floatX = 'float32'\n",
    "X_train_NN = X_train.astype(theano.config.floatX) \n",
    "X_test_NN = X_test.astype(theano.config.floatX)"
   ]
  },
  {
   "cell_type": "code",
   "execution_count": null,
   "metadata": {
    "collapsed": false
   },
   "outputs": [],
   "source": [
    "X_train_NN = train.ix[:,1:159].as_matrix()\n",
    "X_test_NN  = test.ix[:,1:159].as_matrix()\n",
    "y_train_NN = y_train.as_matrix()"
   ]
  },
  {
   "cell_type": "code",
   "execution_count": null,
   "metadata": {
    "collapsed": true
   },
   "outputs": [],
   "source": [
    "from keras.datasets import mnist\n",
    "# the data, shuffled and split between train and test sets\n",
    "#(X_train_NN, y_train_NN), (X_test_NN, y_test_NN) = mnist.load_data()"
   ]
  },
  {
   "cell_type": "code",
   "execution_count": null,
   "metadata": {
    "collapsed": false
   },
   "outputs": [],
   "source": [
    "len(X_train_NN[1,:])"
   ]
  },
  {
   "cell_type": "code",
   "execution_count": null,
   "metadata": {
    "collapsed": false
   },
   "outputs": [],
   "source": [
    "from keras.utils import np_utils\n",
    "print('First 3 labels: ', X_train_NN[:3])"
   ]
  },
  {
   "cell_type": "code",
   "execution_count": null,
   "metadata": {
    "collapsed": true
   },
   "outputs": [],
   "source": [
    "#img_rows, img_cols = 28, 28\n",
    "#nb_classes = 10"
   ]
  },
  {
   "cell_type": "code",
   "execution_count": null,
   "metadata": {
    "collapsed": false
   },
   "outputs": [],
   "source": [
    "#y_train_ohe = np_utils.to_categorical(y_train_NN)\n",
    "#X_train = X_train.reshape(X_train.shape[0], 1, img_rows, img_cols)\n",
    "#X_test = X_test.reshape(X_test.shape[0], 1, img_rows, img_cols)\n",
    "#X_train = X_train.astype('float32')\n",
    "#X_test = X_test.astype('float32')\n",
    "#X_train /= 255\n",
    "#X_test /= 255\n",
    "# convert class vectors to binary class matrices\n",
    "#Y_train = np_utils.to_categorical(y_train, nb_classes)\n",
    "#Y_test = np_utils.to_categorical(y_test, nb_classes)"
   ]
  },
  {
   "cell_type": "code",
   "execution_count": null,
   "metadata": {
    "collapsed": false
   },
   "outputs": [],
   "source": [
    "Y_train.shape"
   ]
  },
  {
   "cell_type": "code",
   "execution_count": null,
   "metadata": {
    "collapsed": false
   },
   "outputs": [],
   "source": [
    "from keras.models import Sequential\n",
    "from keras.layers.core import Dense\n",
    "from keras.optimizers import SGD"
   ]
  },
  {
   "cell_type": "code",
   "execution_count": null,
   "metadata": {
    "collapsed": true
   },
   "outputs": [],
   "source": [
    "np.random.seed(42) "
   ]
  },
  {
   "cell_type": "code",
   "execution_count": null,
   "metadata": {
    "collapsed": false
   },
   "outputs": [],
   "source": [
    "model = Sequential()"
   ]
  },
  {
   "cell_type": "code",
   "execution_count": null,
   "metadata": {
    "collapsed": false
   },
   "outputs": [],
   "source": [
    "model.add(Dense(input_dim=X_train_NN.shape[1], \n",
    "...                 output_dim=50, \n",
    "...                 init='uniform', \n",
    "...                 activation='tanh'))"
   ]
  },
  {
   "cell_type": "code",
   "execution_count": null,
   "metadata": {
    "collapsed": false
   },
   "outputs": [],
   "source": [
    "model.add(Dense(input_dim=50, \n",
    "...                 output_dim=50, \n",
    "...                 init='uniform', \n",
    "...                 activation='tanh'))\n",
    "\n",
    "model.add(Dense(input_dim=50, \n",
    "...                 output_dim=y_train_ohe.shape[1], \n",
    "...                 init='uniform', \n",
    "...                 activation='softmax'))\n",
    "\n",
    "sgd = SGD(lr=0.01, decay=1e-7, momentum=.9)\n",
    "model.compile(loss='categorical_crossentropy', optimizer=sgd, metrics=[\"accuracy\"])"
   ]
  },
  {
   "cell_type": "code",
   "execution_count": null,
   "metadata": {
    "collapsed": false
   },
   "outputs": [],
   "source": [
    "model.fit(X_train_NN, \n",
    "...           y_train_ohe, \n",
    "...           nb_epoch=50, \n",
    "...           batch_size=300, \n",
    "...           verbose=1, \n",
    "...           validation_split=0.1)"
   ]
  },
  {
   "cell_type": "code",
   "execution_count": null,
   "metadata": {
    "collapsed": false
   },
   "outputs": [],
   "source": [
    "y_train_pred = model.predict_classes(X_train_NN, verbose=0)\n",
    "print('First 3 predictions: ', y_train_pred[:4])"
   ]
  },
  {
   "cell_type": "code",
   "execution_count": null,
   "metadata": {
    "collapsed": false
   },
   "outputs": [],
   "source": [
    "y_train_pred"
   ]
  },
  {
   "cell_type": "code",
   "execution_count": null,
   "metadata": {
    "collapsed": false
   },
   "outputs": [],
   "source": [
    "train_acc = np.sum(\n",
    "...       y_train_NN == y_train_pred, axis=0) / X_train_NN.shape[0]\n",
    "print('Training accuracy: %.2f%%' % (train_acc * 100))"
   ]
  },
  {
   "cell_type": "code",
   "execution_count": null,
   "metadata": {
    "collapsed": false
   },
   "outputs": [],
   "source": [
    "y_test_pred = model.predict_generator(X_test_NN)"
   ]
  },
  {
   "cell_type": "code",
   "execution_count": null,
   "metadata": {
    "collapsed": false
   },
   "outputs": [],
   "source": [
    "test_acc = np.sum(y_test == y_test_pred,\n",
    "...                   axis=0) / X_test_NN.shape[0]\n",
    "print('Test accuracy: %.2f%%' % (test_acc * 100))"
   ]
  }
 ],
 "metadata": {
  "kernelspec": {
   "display_name": "Python 2",
   "language": "python",
   "name": "python2"
  },
  "language_info": {
   "codemirror_mode": {
    "name": "ipython",
    "version": 2
   },
   "file_extension": ".py",
   "mimetype": "text/x-python",
   "name": "python",
   "nbconvert_exporter": "python",
   "pygments_lexer": "ipython2",
   "version": "2.7.11"
  }
 },
 "nbformat": 4,
 "nbformat_minor": 0
}
