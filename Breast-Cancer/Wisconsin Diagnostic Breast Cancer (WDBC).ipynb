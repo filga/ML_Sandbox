{
 "cells": [
  {
   "cell_type": "markdown",
   "metadata": {},
   "source": [
    "## Wisconsin Diagnostic Breast Cancer (WDBC) Dataset with Decision Tree Classifier and Random Forest"
   ]
  },
  {
   "cell_type": "markdown",
   "metadata": {},
   "source": [
    "I am writing the explorative analysis of the dataset using a series of Python (ver.2.7.11) packages that facilitate the access to the data as well as the statistical analysis. In particular, I am using Panda (ver.0.17), scikit-learn (ver.0.17) together with the more common numerical packages available for Python such as numpy and matplotlib. I am also using jupyter notebooks for this type of quick data analysis. I usually save everything into a normal python script after I streamline the major features of the predictive model."
   ]
  },
  {
   "cell_type": "code",
   "execution_count": 119,
   "metadata": {
    "collapsed": false
   },
   "outputs": [],
   "source": [
    "%matplotlib inline\n",
    "import numpy as np\n",
    "import matplotlib.pyplot as plt\n",
    "from sklearn.linear_model import LinearRegression\n",
    "from sklearn.linear_model import LogisticRegression\n",
    "from sklearn.ensemble import RandomForestRegressor\n",
    "from sklearn.ensemble import RandomForestClassifier\n",
    "from sklearn.metrics import classification_report\n",
    "import sklearn.metrics\n",
    "from sklearn import preprocessing\n",
    "\n",
    "import urllib\n",
    "from math import sqrt\n",
    "from sklearn import tree\n",
    "import pylab as pl\n",
    "import pandas as pd\n",
    "import StringIO\n",
    "#from pydot import graph_from_dot_data as gdot\n",
    "from sklearn.externals.six import StringIO "
   ]
  },
  {
   "cell_type": "markdown",
   "metadata": {},
   "source": [
    "The description of the attibutes of the dataset can be found on the UCI Machine Learning Repository website (https://archive.ics.uci.edu/ml/machine-learning-databases/breast-cancer-wisconsin/wdbc.names):\n",
    "* radius (mean of distances from center to points on the perimeter)\n",
    "* texture (standard deviation of gray-scale values)\n",
    "* perimeter\n",
    "* area\n",
    "* smoothness (local variation in radius lengths)\n",
    "* compactness (perimeter^2 / area - 1.0)\n",
    "* concavity (severity of concave portions of the contour)\n",
    "* concave points (number of concave portions of the contour)\n",
    "* symmetry \n",
    "* fractal dimension (\"coastline approximation\" - 1)\n",
    " \n",
    "The mean, standard error, and \"worst\" or largest (mean of the three\n",
    "largest values) of these features were computed for each image,\n",
    "resulting in 30 features.  For instance, field 3 is Mean Radius, field\n",
    "13 is Radius SE, field 23 is Worst Radius."
   ]
  },
  {
   "cell_type": "code",
   "execution_count": 120,
   "metadata": {
    "collapsed": false
   },
   "outputs": [],
   "source": [
    "# URL for the Wisconsin Diagnostic Breast Cancer (WDBC) (UCI Machine Learning Repository)\n",
    "url = \"https://archive.ics.uci.edu/ml/machine-learning-databases/breast-cancer-wisconsin/wdbc.data\"\n",
    "# download the file\n",
    "raw_data = urllib.urlopen(url)\n",
    "# load the file as a numpy matrix\n",
    "attributes = ['id','cancer_type','mean_radius', 'mean_texture', 'mean_perimeter', 'mean_area',\n",
    "       'mean_smoothness', 'mean_compactness', 'mean_concavity',\n",
    "       'mean_concave_points', 'mean_symmetry', 'mean_fractal_dimension',\n",
    "       'radius_error', 'texture_error', 'perimeter_error', 'area_error',\n",
    "       'smoothness_error', 'compactness_error', 'concavity_error',\n",
    "       'concave_points_error', 'symmetry_error', 'fractal_dimension_error',\n",
    "       'worst_radius', 'worst_texture', 'worst_perimeter', 'worst_area',\n",
    "       'worst_smoothness', 'worst_compactness', 'worst_concavity',\n",
    "       'worst_concave_points', 'worst_symmetry', 'worst_fractal_dimension']\n",
    "bcd =  np.genfromtxt(raw_data, delimiter=',', dtype=None, names= attributes)"
   ]
  },
  {
   "cell_type": "code",
   "execution_count": 121,
   "metadata": {
    "collapsed": false
   },
   "outputs": [],
   "source": [
    "# Convert the numpy array into Pandas DataFrame\n",
    "bcdf = pd.DataFrame(data=bcd, columns=attributes)\n",
    "#Data managment\n",
    "recode1 = {\"M\":1, \"B\":0}\n",
    "bcdf['cancer_type']= bcdf['cancer_type'].map(recode1)"
   ]
  },
  {
   "cell_type": "code",
   "execution_count": null,
   "metadata": {
    "collapsed": true
   },
   "outputs": [],
   "source": []
  },
  {
   "cell_type": "markdown",
   "metadata": {},
   "source": [
    "I split the dataset in a training set randomly sampled while the remaining 20% will be used to test the prediction model."
   ]
  },
  {
   "cell_type": "code",
   "execution_count": 122,
   "metadata": {
    "collapsed": true
   },
   "outputs": [],
   "source": [
    "train = bcdf.sample(frac=0.8)\n",
    "test  = bcdf.drop(train.index)"
   ]
  },
  {
   "cell_type": "markdown",
   "metadata": {},
   "source": [
    "We start by using all the attributes of the dataset to build the decision tree. No feature selection to find a subset of relevant features for use in model construction."
   ]
  },
  {
   "cell_type": "code",
   "execution_count": 123,
   "metadata": {
    "collapsed": false
   },
   "outputs": [],
   "source": [
    "labels = train.columns[2:32]\n",
    "X = train.ix[:,2:32]\n",
    "y = train.ix[:,1]"
   ]
  },
  {
   "cell_type": "code",
   "execution_count": 124,
   "metadata": {
    "collapsed": false
   },
   "outputs": [],
   "source": [
    "# create the decision tree \n",
    "dt_train = tree.DecisionTreeClassifier(max_depth=500, min_samples_leaf=1)\n",
    "dt_train.fit(X,y)\n",
    "tree.export_graphviz(dt_train,feature_names=labels, out_file='tree_train.dot') "
   ]
  },
  {
   "cell_type": "markdown",
   "metadata": {},
   "source": [
    "To create a png of the tree we can run the following command from terminal:\n",
    "\n",
    "```dot -Tpng tree_train.dot -o tree_train.png```"
   ]
  },
  {
   "cell_type": "markdown",
   "metadata": {},
   "source": [
    "![fig:tree_train](tree_train.png)"
   ]
  },
  {
   "cell_type": "markdown",
   "metadata": {},
   "source": [
    "The tree is constructed using all the attributes in the dataset and the Gini impurity to measure the quality of the split. The model tries to predict if a cancer is benign or malignant given a set of carefully measured parameters of the cancer itsels (see list above). In the model above the first split in the tree is given by the *worst perimeter* (from a set of three images of the tumor) with a value of 105.95 as delimiter. The second split in the data is determined by the *worst concave points* for the data with a value of the *worste perimter* less or equal to 105.95 while for the remaining is the *mean concave points* which produces the split. I suppose that *worst*, *mean* and the actual value of the different attributes are actually correlated making some of the quantities partially redundant."
   ]
  },
  {
   "cell_type": "code",
   "execution_count": 125,
   "metadata": {
    "collapsed": true
   },
   "outputs": [],
   "source": [
    "labels = test.columns[2:32]\n",
    "X = test.ix[:,2:32]\n",
    "y = test.ix[:,1]"
   ]
  },
  {
   "cell_type": "markdown",
   "metadata": {},
   "source": [
    "Let's test the model with a prediction on the remaining 20% of the dataset "
   ]
  },
  {
   "cell_type": "code",
   "execution_count": 126,
   "metadata": {
    "collapsed": false
   },
   "outputs": [],
   "source": [
    "test_predict = dt_train.predict(X)"
   ]
  },
  {
   "cell_type": "markdown",
   "metadata": {},
   "source": [
    "What's better than a cross-tabulation to test the success rate. We obtain an accuracy of 95.5% of the model on the a the test dataset (112 observations). The true positive rate (sensitivity) is 94.5% while the specificity is 92.7%."
   ]
  },
  {
   "cell_type": "code",
   "execution_count": 127,
   "metadata": {
    "collapsed": false
   },
   "outputs": [
    {
     "data": {
      "text/html": [
       "<div>\n",
       "<table border=\"1\" class=\"dataframe\">\n",
       "  <thead>\n",
       "    <tr style=\"text-align: right;\">\n",
       "      <th>preds</th>\n",
       "      <th>0</th>\n",
       "      <th>1</th>\n",
       "    </tr>\n",
       "    <tr>\n",
       "      <th>actual</th>\n",
       "      <th></th>\n",
       "      <th></th>\n",
       "    </tr>\n",
       "  </thead>\n",
       "  <tbody>\n",
       "    <tr>\n",
       "      <th>0</th>\n",
       "      <td>71</td>\n",
       "      <td>4</td>\n",
       "    </tr>\n",
       "    <tr>\n",
       "      <th>1</th>\n",
       "      <td>10</td>\n",
       "      <td>29</td>\n",
       "    </tr>\n",
       "  </tbody>\n",
       "</table>\n",
       "</div>"
      ],
      "text/plain": [
       "preds    0   1\n",
       "actual        \n",
       "0       71   4\n",
       "1       10  29"
      ]
     },
     "execution_count": 127,
     "metadata": {},
     "output_type": "execute_result"
    }
   ],
   "source": [
    "pd.crosstab(test['cancer_type'], test_predict, rownames=['actual'], colnames=['preds'])"
   ]
  },
  {
   "cell_type": "markdown",
   "metadata": {},
   "source": [
    "We can create decision tree also on the remaining test dataset. It is not really usefull for the analysis, but it shows how sensitive is the tree shape to the dataset. Which I think it is one of the limitations of the decision tree method partially solved by using Random Forest.\n"
   ]
  },
  {
   "cell_type": "code",
   "execution_count": 128,
   "metadata": {
    "collapsed": false
   },
   "outputs": [],
   "source": [
    "dt_test = tree.DecisionTreeClassifier(max_depth=500, min_samples_leaf=1)\n",
    "dt_test.fit(X, y)\n",
    "tree.export_graphviz(dt_test,feature_names=labels, out_file='tree_test.dot') "
   ]
  },
  {
   "cell_type": "markdown",
   "metadata": {
    "collapsed": true
   },
   "source": [
    "![fig:tree_test](tree_test.png)"
   ]
  },
  {
   "cell_type": "markdown",
   "metadata": {
    "collapsed": true
   },
   "source": [
    "## Random Forest"
   ]
  },
  {
   "cell_type": "markdown",
   "metadata": {},
   "source": [
    "As we noticed in the previous section using a single decision tree makes our predictor very sensitive to any change in the dataset that we use to train it. A solution to this problem could be found in applying an ensamble of trees each of them constructed on a bootstrap sample of the original training set. We initialize a Random Forest classifier with 20 trees and calculating the out-of-bag classification error (I set random_state to 99 so it is possible to obtain *exactly* the same results when you run the script).  "
   ]
  },
  {
   "cell_type": "code",
   "execution_count": 129,
   "metadata": {
    "collapsed": false
   },
   "outputs": [],
   "source": [
    "rfr_mod = RandomForestClassifier(n_estimators=30, oob_score=True, random_state=99, n_jobs=-1)"
   ]
  },
  {
   "cell_type": "markdown",
   "metadata": {},
   "source": [
    "Before we continue, we want to explicitly declare the cancer_type variable as a categorical variable."
   ]
  },
  {
   "cell_type": "code",
   "execution_count": 130,
   "metadata": {
    "collapsed": false
   },
   "outputs": [],
   "source": [
    "train.cancer_type = train.cancer_type.astype('category')\n",
    "test.cancer_type = test.cancer_type.astype('category')"
   ]
  },
  {
   "cell_type": "markdown",
   "metadata": {},
   "source": [
    "We build the training set and in this case we use all the variables in the dataset. We include also the \"id\" which might be interesting to investigate in case there is a systematic error in any of the diagnostic tests related to a specific lab or machinery which could be related to a specific set of ids."
   ]
  },
  {
   "cell_type": "code",
   "execution_count": 131,
   "metadata": {
    "collapsed": false
   },
   "outputs": [],
   "source": [
    "X = train\n",
    "y = X.pop(\"cancer_type\")"
   ]
  },
  {
   "cell_type": "code",
   "execution_count": 132,
   "metadata": {
    "collapsed": false
   },
   "outputs": [],
   "source": [
    "le = preprocessing.LabelEncoder()"
   ]
  },
  {
   "cell_type": "code",
   "execution_count": 133,
   "metadata": {
    "collapsed": false
   },
   "outputs": [],
   "source": [
    "y = le.fit_transform(y)"
   ]
  },
  {
   "cell_type": "markdown",
   "metadata": {},
   "source": [
    "We train the model on the dataset"
   ]
  },
  {
   "cell_type": "code",
   "execution_count": 134,
   "metadata": {
    "collapsed": false
   },
   "outputs": [
    {
     "name": "stdout",
     "output_type": "stream",
     "text": [
      "10 loops, best of 3: 188 ms per loop\n"
     ]
    }
   ],
   "source": [
    "%%timeit\n",
    "rfr_mod.fit(X,y)"
   ]
  },
  {
   "cell_type": "markdown",
   "metadata": {},
   "source": [
    "The out-of-bag error for the regression tree is "
   ]
  },
  {
   "cell_type": "code",
   "execution_count": 135,
   "metadata": {
    "collapsed": false
   },
   "outputs": [
    {
     "name": "stdout",
     "output_type": "stream",
     "text": [
      "0.0351648351648\n"
     ]
    }
   ],
   "source": [
    "err = 1. - rfr_mod.oob_score_\n",
    "print err"
   ]
  },
  {
   "cell_type": "markdown",
   "metadata": {},
   "source": [
    "Finally we can test the accuracy of the model using our test dataset (for a better analysis I would recommend build a cross-validation dataset where to run the model) bu for sake of simplicity let's keep going with just a test set."
   ]
  },
  {
   "cell_type": "code",
   "execution_count": 136,
   "metadata": {
    "collapsed": false
   },
   "outputs": [],
   "source": [
    "X_test = test\n",
    "y_test = X_test.pop(\"cancer_type\")"
   ]
  },
  {
   "cell_type": "code",
   "execution_count": 137,
   "metadata": {
    "collapsed": false
   },
   "outputs": [],
   "source": [
    "test_predict = rfr_mod.predict(X_test)"
   ]
  },
  {
   "cell_type": "markdown",
   "metadata": {},
   "source": [
    "And again we produce our cross-tabulation to test the success rate. We obtain an accuracy of 98.2% of the model on the a the test dataset (114 observations). The precision is 100.0% while the recall is 97.4%, giving us an $F_1$ value of 97.8% (if I am not mistaken).  "
   ]
  },
  {
   "cell_type": "code",
   "execution_count": 138,
   "metadata": {
    "collapsed": false
   },
   "outputs": [
    {
     "data": {
      "text/html": [
       "<div>\n",
       "<table border=\"1\" class=\"dataframe\">\n",
       "  <thead>\n",
       "    <tr style=\"text-align: right;\">\n",
       "      <th>preds</th>\n",
       "      <th>0</th>\n",
       "      <th>1</th>\n",
       "    </tr>\n",
       "    <tr>\n",
       "      <th>actual</th>\n",
       "      <th></th>\n",
       "      <th></th>\n",
       "    </tr>\n",
       "  </thead>\n",
       "  <tbody>\n",
       "    <tr>\n",
       "      <th>0</th>\n",
       "      <td>74</td>\n",
       "      <td>1</td>\n",
       "    </tr>\n",
       "    <tr>\n",
       "      <th>1</th>\n",
       "      <td>7</td>\n",
       "      <td>32</td>\n",
       "    </tr>\n",
       "  </tbody>\n",
       "</table>\n",
       "</div>"
      ],
      "text/plain": [
       "preds    0   1\n",
       "actual        \n",
       "0       74   1\n",
       "1        7  32"
      ]
     },
     "execution_count": 138,
     "metadata": {},
     "output_type": "execute_result"
    }
   ],
   "source": [
    "pd.crosstab(y_test, test_predict, rownames=['actual'], colnames=['preds'])"
   ]
  },
  {
   "cell_type": "markdown",
   "metadata": {},
   "source": [
    "A powerful feature of the Random Forest is the possibility to use it to select a subset of relevant features for use in the construction of more sophisticated models."
   ]
  },
  {
   "cell_type": "code",
   "execution_count": 139,
   "metadata": {
    "collapsed": false
   },
   "outputs": [
    {
     "data": {
      "image/png": "[encoded data removed]",
      "text/plain": [
       "<matplotlib.figure.Figure at 0xe110940>"
      ]
     },
     "metadata": {},
     "output_type": "display_data"
    }
   ],
   "source": [
    "features_importance = pd.Series(rfr_mod.feature_importances_, index=X.columns.values)\n",
    "features_importance.sort_values(inplace=True)\n",
    "features_importance.plot(kind=\"barh\", figsize=(8,7));"
   ]
  },
  {
   "cell_type": "code",
   "execution_count": 140,
   "metadata": {
    "collapsed": false
   },
   "outputs": [
    {
     "data": {
      "text/plain": [
       "<matplotlib.text.Text at 0xdf1a9e8>"
      ]
     },
     "execution_count": 140,
     "metadata": {},
     "output_type": "execute_result"
    },
    {
     "data": {
      "image/png": "[encoded data removed]",
      "text/plain": [
       "<matplotlib.figure.Figure at 0xdd84278>"
      ]
     },
     "metadata": {},
     "output_type": "display_data"
    }
   ],
   "source": [
    "\"\"\"\n",
    "Importance of number of trees in the random forest.\n",
    "Running a different number of trees and see the effect\n",
    " of that on the accuracy of the prediction\n",
    "\"\"\"\n",
    "idx_list = range(1, 20)\n",
    " \n",
    "# loop over tree counts, doing 5 fits per count\n",
    "accuracy_mean = []\n",
    "accuracy_stddev = []\n",
    "\n",
    "for idx in idx_list:\n",
    "    accuracy = []\n",
    "    for i in range(0,5):\n",
    "        classifier = RandomForestClassifier(n_estimators=idx, oob_score=True, n_jobs=-1)\n",
    "        classifier = classifier.fit(X,y)\n",
    "        predictions = classifier.predict(X_test)\n",
    "        accuracy.append(sklearn.metrics.accuracy_score(y_test, predictions))\n",
    "    accuracy_mean.append(np.mean(accuracy))\n",
    "    accuracy_stddev.append(np.std(accuracy))\n",
    "    \n",
    "plt.cla()\n",
    "plt.plot(idx_list, accuracy_mean)\n",
    "plt.errorbar(idx_list, accuracy_mean, yerr=accuracy_stddev, fmt='-o')\n",
    "plt.xlabel('Number of trees in fit')\n",
    "plt.ylabel('Model accuracy')\n",
    "plt.title('Random Forest Tree Count Analysis')"
   ]
  },
  {
   "cell_type": "code",
   "execution_count": null,
   "metadata": {
    "collapsed": true
   },
   "outputs": [],
   "source": []
  }
 ],
 "metadata": {
  "kernelspec": {
   "display_name": "Python 2",
   "language": "python",
   "name": "python2"
  },
  "language_info": {
   "codemirror_mode": {
    "name": "ipython",
    "version": 2
   },
   "file_extension": ".py",
   "mimetype": "text/x-python",
   "name": "python",
   "nbconvert_exporter": "python",
   "pygments_lexer": "ipython2",
   "version": "2.7.11"
  }
 },
 "nbformat": 4,
 "nbformat_minor": 0
}
