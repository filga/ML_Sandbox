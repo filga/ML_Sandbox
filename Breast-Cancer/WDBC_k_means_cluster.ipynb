{
 "cells": [
  {
   "cell_type": "code",
   "execution_count": 147,
   "metadata": {
    "collapsed": true
   },
   "outputs": [],
   "source": [
    "%matplotlib inline\n",
    "import numpy as np\n",
    "import matplotlib.pyplot as plt\n",
    "from sklearn.cross_validation import train_test_split\n",
    "from sklearn.cluster import KMeans\n",
    "from sklearn import preprocessing\n",
    "\n",
    "import urllib\n",
    "from math import sqrt\n",
    "from sklearn import tree\n",
    "import pylab as pl\n",
    "import pandas as pd\n",
    "import StringIO\n",
    "#from pydot import graph_from_dot_data as gdot\n",
    "from sklearn.externals.six import StringIO "
   ]
  },
  {
   "cell_type": "markdown",
   "metadata": {},
   "source": [
    "We use the data of the Wisconsin Diagnostic Breast Cancer (WDBC) to perform the k-means cluster analysis. We try to identify clustering of specific images in the database from which data such as radius, texture, perimeter, area (mean) are receovered.   The idea behind the analysis is to understand if they are correleted with the cancer being malignant (cancerous) or benign (non-cancerous)."
   ]
  },
  {
   "cell_type": "code",
   "execution_count": 148,
   "metadata": {
    "collapsed": false
   },
   "outputs": [],
   "source": [
    "# URL for the Wisconsin Diagnostic Breast Cancer (WDBC) (UCI Machine Learning Repository)\n",
    "url = \"https://archive.ics.uci.edu/ml/machine-learning-databases/breast-cancer-wisconsin/wdbc.data\"\n",
    "# download the file\n",
    "raw_data = urllib.urlopen(url)\n",
    "# load the file as a numpy matrix\n",
    "attributes = ['id','cancer_type','mean_radius', 'mean_texture', 'mean_perimeter', 'mean_area',\n",
    "       'mean_smoothness', 'mean_compactness', 'mean_concavity',\n",
    "       'mean_concave_points', 'mean_symmetry', 'mean_fractal_dimension',\n",
    "       'radius_error', 'texture_error', 'perimeter_error', 'area_error',\n",
    "       'smoothness_error', 'compactness_error', 'concavity_error',\n",
    "       'concave_points_error', 'symmetry_error', 'fractal_dimension_error',\n",
    "       'worst_radius', 'worst_texture', 'worst_perimeter', 'worst_area',\n",
    "       'worst_smoothness', 'worst_compactness', 'worst_concavity',\n",
    "       'worst_concave_points', 'worst_symmetry', 'worst_fractal_dimension']\n",
    "bcd =  np.genfromtxt(raw_data, delimiter=',', dtype=None, names= attributes)"
   ]
  },
  {
   "cell_type": "code",
   "execution_count": 149,
   "metadata": {
    "collapsed": true
   },
   "outputs": [],
   "source": [
    "# Convert the numpy array into Pandas DataFrame\n",
    "bcdf = pd.DataFrame(data=bcd, columns=attributes)"
   ]
  },
  {
   "cell_type": "code",
   "execution_count": 150,
   "metadata": {
    "collapsed": true
   },
   "outputs": [],
   "source": [
    "#Clean the datasets\n",
    "data_clean = bcdf.dropna()"
   ]
  },
  {
   "cell_type": "code",
   "execution_count": 151,
   "metadata": {
    "collapsed": true
   },
   "outputs": [],
   "source": [
    "#Data managment\n",
    "recode1 = {\"M\":1, \"B\":0}\n",
    "data_clean['cancer_type']= data_clean['cancer_type'].map(recode1)"
   ]
  },
  {
   "cell_type": "markdown",
   "metadata": {},
   "source": [
    "We select the clustering variables for the analysis."
   ]
  },
  {
   "cell_type": "code",
   "execution_count": 152,
   "metadata": {
    "collapsed": true
   },
   "outputs": [],
   "source": [
    "clustervars = data_clean[['mean_radius', 'mean_texture', 'mean_perimeter', 'mean_area',\n",
    "       'mean_smoothness', 'mean_compactness', 'mean_concavity',\n",
    "       'mean_concave_points', 'mean_symmetry', 'mean_fractal_dimension',\n",
    "       'radius_error', 'texture_error', 'perimeter_error', 'area_error',\n",
    "       'smoothness_error', 'compactness_error', 'concavity_error',\n",
    "       'concave_points_error', 'symmetry_error', 'fractal_dimension_error',\n",
    "       'worst_radius', 'worst_texture', 'worst_perimeter', 'worst_area',\n",
    "       'worst_smoothness', 'worst_compactness', 'worst_concavity',\n",
    "       'worst_concave_points', 'worst_symmetry', 'worst_fractal_dimension']]\n",
    "cancer_data = data_clean.cancer_type"
   ]
  },
  {
   "cell_type": "markdown",
   "metadata": {},
   "source": [
    "We make a copy to use the original dataset in the later analysis."
   ]
  },
  {
   "cell_type": "code",
   "execution_count": 153,
   "metadata": {
    "collapsed": true
   },
   "outputs": [],
   "source": [
    "clus = clustervars.copy()"
   ]
  },
  {
   "cell_type": "markdown",
   "metadata": {},
   "source": [
    "We standardize the predictors so that all the quantities have mean=0 and std=1."
   ]
  },
  {
   "cell_type": "code",
   "execution_count": 154,
   "metadata": {
    "collapsed": false
   },
   "outputs": [],
   "source": [
    "for l in clus.columns:\n",
    "    clus[l]=preprocessing.scale(clus[l].astype('float64'))"
   ]
  },
  {
   "cell_type": "markdown",
   "metadata": {},
   "source": [
    "As usual we split data into train (70%) and test set (30%). "
   ]
  },
  {
   "cell_type": "code",
   "execution_count": 155,
   "metadata": {
    "collapsed": false
   },
   "outputs": [],
   "source": [
    "clus_train, clus_test = train_test_split(clus, test_size=.3, random_state=123)"
   ]
  },
  {
   "cell_type": "markdown",
   "metadata": {},
   "source": [
    "We begin the k-means cluster analysis with k=[1-9] clusters and calculate the mean Euclidian distance amongst the different clusters."
   ]
  },
  {
   "cell_type": "code",
   "execution_count": 156,
   "metadata": {
    "collapsed": false
   },
   "outputs": [],
   "source": [
    "from scipy.spatial.distance import cdist\n",
    "clusters=range(1,9)\n",
    "meandist=[]\n",
    "\n",
    "for k in clusters:\n",
    "    model=KMeans(n_clusters=k)\n",
    "    model.fit(clus_train)\n",
    "    clusassign=model.predict(clus_train)\n",
    "    meandist.append(sum(np.min(cdist(clus_train, model.cluster_centers_, 'euclidean'), axis=1))\n",
    "                    /clus_train.shape[0])"
   ]
  },
  {
   "cell_type": "markdown",
   "metadata": {},
   "source": [
    "We plot the distance amongst clusters centroid for different number of clusters.\n",
    "The Elbow Method is then used to identify the number of clusters to choose."
   ]
  },
  {
   "cell_type": "code",
   "execution_count": 157,
   "metadata": {
    "collapsed": false
   },
   "outputs": [
    {
     "data": {
      "text/plain": [
       "<matplotlib.text.Text at 0x133e32b0>"
      ]
     },
     "execution_count": 157,
     "metadata": {},
     "output_type": "execute_result"
    },
    {
     "data": {
      "image/png": "[encoded data removed]",
      "text/plain": [
       "<matplotlib.figure.Figure at 0x119caf28>"
      ]
     },
     "metadata": {},
     "output_type": "display_data"
    }
   ],
   "source": [
    "plt.plot(clusters, meandist)\n",
    "plt.xlabel('Number of clusters')\n",
    "plt.ylabel('Average distance')\n",
    "plt.title('Selecting k with the Elbow Method')"
   ]
  },
  {
   "cell_type": "markdown",
   "metadata": {},
   "source": [
    "The plot above is not completely conclusive and we could use 2,3, or 4 clusters respectively."
   ]
  },
  {
   "cell_type": "code",
   "execution_count": 158,
   "metadata": {
    "collapsed": false
   },
   "outputs": [],
   "source": [
    "# Interpret 2 cluster solution\n",
    "model2=KMeans(n_clusters=2)\n",
    "\n",
    "model2.fit(clus_train)\n",
    "\n",
    "clusassign=model2.predict(clus_train)"
   ]
  },
  {
   "cell_type": "markdown",
   "metadata": {},
   "source": [
    "To plot the cluster in a 2-D plot we have to use a dimensionality reduction algorithm such as PCA to be able to visualize the data. "
   ]
  },
  {
   "cell_type": "code",
   "execution_count": 159,
   "metadata": {
    "collapsed": false
   },
   "outputs": [
    {
     "data": {
      "image/png": "[encoded data removed]",
      "text/plain": [
       "<matplotlib.figure.Figure at 0x11d65f28>"
      ]
     },
     "metadata": {},
     "output_type": "display_data"
    }
   ],
   "source": [
    "# plot clusters\n",
    "from sklearn.decomposition import PCA\n",
    "\n",
    "pca_2 = PCA(2)\n",
    "plot_columns = pca_2.fit_transform(clus_train)\n",
    "plt.scatter(x=plot_columns[:,0], y=plot_columns[:,1], c=model2.labels_,)\n",
    "\n",
    "plt.xlabel('Canonical variable 1')\n",
    "plt.ylabel('Canonical variable 2')\n",
    "plt.title('Scatterplot of Canonical Variables for 3 Clusters')\n",
    "plt.show()"
   ]
  },
  {
   "cell_type": "markdown",
   "metadata": {},
   "source": [
    "We do the same for k=3."
   ]
  },
  {
   "cell_type": "code",
   "execution_count": 160,
   "metadata": {
    "collapsed": false
   },
   "outputs": [
    {
     "data": {
      "image/png": "[encoded data removed]",
      "text/plain": [
       "<matplotlib.figure.Figure at 0x12791048>"
      ]
     },
     "metadata": {},
     "output_type": "display_data"
    }
   ],
   "source": [
    "# Interpret 3 cluster solution\n",
    "model3=KMeans(n_clusters=3)\n",
    "\n",
    "model3.fit(clus_train)\n",
    "\n",
    "clusassign3=model3.predict(clus_train)\n",
    "\n",
    "# plot clusters\n",
    "\n",
    "from sklearn.decomposition import PCA\n",
    "\n",
    "pca_2 = PCA(2)\n",
    "plot_columns = pca_2.fit_transform(clus_train)\n",
    "plt.scatter(x=plot_columns[:,0], y=plot_columns[:,1], c=model3.labels_,)\n",
    "\n",
    "plt.xlabel('Canonical variable 1')\n",
    "plt.ylabel('Canonical variable 2')\n",
    "plt.title('Scatterplot of Canonical Variables for 4 Clusters')\n",
    "plt.show()"
   ]
  },
  {
   "cell_type": "markdown",
   "metadata": {},
   "source": [
    "Only the first and second cluster show a distinct grouping of the points. Adding and additional cluster wopuld only increase the variance in within each cluster."
   ]
  },
  {
   "cell_type": "markdown",
   "metadata": {},
   "source": [
    "We want to examine now the cluster variable means for each of the clusters. We can do that by merging the cluster assignment value for each of the model (in our case k=3) with the identifier variable specific to each element of the dataset."
   ]
  },
  {
   "cell_type": "code",
   "execution_count": 161,
   "metadata": {
    "collapsed": false
   },
   "outputs": [],
   "source": [
    "# create a unique identifier variable from the index for the \n",
    "# cluster training data to merge with the cluster assignment variable\n",
    "clus_train.reset_index(level=0, inplace=True)\n",
    "# create a list that has the new index variable\n",
    "cluslist=list(clus_train['index'])\n",
    "# create a list of cluster assignments\n",
    "labels=list(model3.labels_)\n",
    "# combine index variable list with cluster assignment list into a dictionary\n",
    "newlist=dict(zip(cluslist, labels))\n",
    "newlist\n",
    "# convert newlist dictionary to a dataframe\n",
    "newclus=pd.DataFrame.from_dict(newlist, orient='index')\n",
    "newclus\n",
    "# rename the cluster assignment column\n",
    "newclus.columns = ['cluster']"
   ]
  },
  {
   "cell_type": "code",
   "execution_count": 162,
   "metadata": {
    "collapsed": false
   },
   "outputs": [
    {
     "data": {
      "text/plain": [
       "0    263\n",
       "1     93\n",
       "2     42\n",
       "Name: cluster, dtype: int64"
      ]
     },
     "execution_count": 162,
     "metadata": {},
     "output_type": "execute_result"
    }
   ],
   "source": [
    "# now do the same for the cluster assignment variable\n",
    "# create a unique identifier variable from the index for the \n",
    "# cluster assignment dataframe \n",
    "# to merge with cluster training data\n",
    "newclus.reset_index(level=0, inplace=True)\n",
    "# merge the cluster assignment dataframe with the cluster training variable dataframe\n",
    "# by the index variable\n",
    "merged_train=pd.merge(clus_train, newclus, on='index')\n",
    "merged_train.head(n=100)\n",
    "# cluster frequencies\n",
    "merged_train.cluster.value_counts()"
   ]
  },
  {
   "cell_type": "markdown",
   "metadata": {},
   "source": [
    "As we have already noticed most of the data are packed in cluster 0 (256) which is the most densely popupulated. We can now  calculate clustering variable means by cluster."
   ]
  },
  {
   "cell_type": "code",
   "execution_count": 163,
   "metadata": {
    "collapsed": false
   },
   "outputs": [
    {
     "name": "stdout",
     "output_type": "stream",
     "text": [
      "Clustering variable means by cluster\n",
      "              index  mean_radius  mean_texture  mean_perimeter  mean_area  \\\n",
      "cluster                                                                     \n",
      "0        302.969582    -0.444804     -0.207514       -0.463092  -0.448321   \n",
      "1        250.774194     1.415984      0.631418        1.415889   1.418734   \n",
      "2        244.928571    -0.303065      0.152560       -0.192711  -0.309238   \n",
      "\n",
      "         mean_smoothness  mean_compactness  mean_concavity  \\\n",
      "cluster                                                      \n",
      "0              -0.298211         -0.514345       -0.565356   \n",
      "1               0.363704          0.806359        1.092298   \n",
      "2               0.811707          1.468053        1.161281   \n",
      "\n",
      "         mean_concave_points  mean_symmetry           ...             \\\n",
      "cluster                                               ...              \n",
      "0                  -0.557442      -0.324499           ...              \n",
      "1                   1.325461       0.393731           ...              \n",
      "2                   0.595181       1.158133           ...              \n",
      "\n",
      "         worst_radius  worst_texture  worst_perimeter  worst_area  \\\n",
      "cluster                                                             \n",
      "0           -0.488524      -0.238142        -0.502028   -0.479218   \n",
      "1            1.482411       0.587793         1.467868    1.465208   \n",
      "2           -0.248819       0.198269        -0.118570   -0.284949   \n",
      "\n",
      "         worst_smoothness  worst_compactness  worst_concavity  \\\n",
      "cluster                                                         \n",
      "0               -0.350375          -0.485512        -0.534668   \n",
      "1                0.369843           0.658046         0.848510   \n",
      "2                0.753914           1.310292         1.274209   \n",
      "\n",
      "         worst_concave_points  worst_symmetry  worst_fractal_dimension  \n",
      "cluster                                                                 \n",
      "0                   -0.557911       -0.319470                -0.365209  \n",
      "1                    1.197995        0.300520                 0.132759  \n",
      "2                    0.761126        0.925535                 1.577142  \n",
      "\n",
      "[3 rows x 31 columns]\n"
     ]
    }
   ],
   "source": [
    "clustergrp = merged_train.groupby('cluster').mean()\n",
    "print (\"Clustering variable means by cluster\")\n",
    "print(clustergrp)"
   ]
  },
  {
   "cell_type": "markdown",
   "metadata": {},
   "source": [
    "We see that cluster 0 and 2 are more separated but the data are also more spread out indicating less correlation amongst them compared to cluster 1. By looking at the results in the table above we can see that the cluster 1 has the largest value of mea_radius, mean_texture , mearn_perimeter and mean_area. The first group has instead the lowest value for all the previous features. The group 2 instead falls somewhere in between making us thinking that the model with k=2 might need further attention."
   ]
  },
  {
   "cell_type": "markdown",
   "metadata": {},
   "source": [
    "## Validation"
   ]
  },
  {
   "cell_type": "markdown",
   "metadata": {},
   "source": [
    "We can now validate the clusters in training data by examining cluster differences in cancer using the analysis of variance to see if there are significant differences between clusters regarding the type of cancer in each of them.\n",
    "First, we have to merge cancer with clustering variables and cluster assignment data cancer_data=data_clean['cancer_type']."
   ]
  },
  {
   "cell_type": "code",
   "execution_count": 164,
   "metadata": {
    "collapsed": false
   },
   "outputs": [],
   "source": [
    "# split cancer data into train and test sets\n",
    "cancer_train, cancer_test = train_test_split(cancer_data, test_size=.3, random_state=123)\n",
    "cancer_train1=pd.DataFrame(cancer_train)\n",
    "cancer_train1.reset_index(level=0, inplace=True)\n",
    "merged_train_all=pd.merge(cancer_train1, merged_train, on='index')\n",
    "sub1 = merged_train_all[['cancer_type', 'cluster']].dropna()"
   ]
  },
  {
   "cell_type": "code",
   "execution_count": 165,
   "metadata": {
    "collapsed": true
   },
   "outputs": [],
   "source": [
    "import statsmodels.formula.api as smf\n",
    "import statsmodels.stats.multicomp as multi "
   ]
  },
  {
   "cell_type": "markdown",
   "metadata": {},
   "source": [
    "In this analysis we force cancer_type, which normally is a categorical variable, to be quantitative so that we can se in any of the clusters the percentage of cancer types."
   ]
  },
  {
   "cell_type": "code",
   "execution_count": 167,
   "metadata": {
    "collapsed": false
   },
   "outputs": [
    {
     "name": "stdout",
     "output_type": "stream",
     "text": [
      "                            OLS Regression Results                            \n",
      "==============================================================================\n",
      "Dep. Variable:            cancer_type   R-squared:                       0.624\n",
      "Model:                            OLS   Adj. R-squared:                  0.623\n",
      "Method:                 Least Squares   F-statistic:                     328.4\n",
      "Date:                Sat, 30 Apr 2016   Prob (F-statistic):           9.99e-85\n",
      "Time:                        23:05:21   Log-Likelihood:                -78.164\n",
      "No. Observations:                 398   AIC:                             162.3\n",
      "Df Residuals:                     395   BIC:                             174.3\n",
      "Df Model:                           2                                         \n",
      "Covariance Type:            nonrobust                                         \n",
      "===================================================================================\n",
      "                      coef    std err          t      P>|t|      [95.0% Conf. Int.]\n",
      "-----------------------------------------------------------------------------------\n",
      "Intercept           0.1027      0.018      5.632      0.000         0.067     0.138\n",
      "C(cluster)[T.1]     0.8973      0.036     25.162      0.000         0.827     0.967\n",
      "C(cluster)[T.2]     0.4688      0.049      9.544      0.000         0.372     0.565\n",
      "==============================================================================\n",
      "Omnibus:                      147.092   Durbin-Watson:                   2.132\n",
      "Prob(Omnibus):                  0.000   Jarque-Bera (JB):              438.738\n",
      "Skew:                           1.750   Prob(JB):                     5.36e-96\n",
      "Kurtosis:                       6.770   Cond. No.                         3.55\n",
      "==============================================================================\n",
      "\n",
      "Warnings:\n",
      "[1] Standard Errors assume that the covariance matrix of the errors is correctly specified.\n"
     ]
    }
   ],
   "source": [
    "gpamod = smf.ols(formula='cancer_type ~ C(cluster)', data=sub1).fit()\n",
    "print (gpamod.summary())"
   ]
  },
  {
   "cell_type": "code",
   "execution_count": null,
   "metadata": {
    "collapsed": false
   },
   "outputs": [],
   "source": [
    "print ('means for cancer_type by cluster')\n",
    "m1= sub1.groupby('cluster').mean()\n",
    "print (m1)"
   ]
  },
  {
   "cell_type": "markdown",
   "metadata": {},
   "source": [
    "We can see that all in cluster 1 we have 100% cases of malignant cancer as expected from the analysis of the means of the \n",
    "features in the previous table."
   ]
  },
  {
   "cell_type": "code",
   "execution_count": 168,
   "metadata": {
    "collapsed": false
   },
   "outputs": [],
   "source": [
    "# create a variable out of the index for the cluster training dataframe to merge on\n",
    "clus_test.reset_index(level=0, inplace=True)"
   ]
  },
  {
   "cell_type": "code",
   "execution_count": 169,
   "metadata": {
    "collapsed": false
   },
   "outputs": [
    {
     "data": {
      "text/plain": [
       "1    112\n",
       "0     59\n",
       "Name: cluster, dtype: int64"
      ]
     },
     "execution_count": 169,
     "metadata": {},
     "output_type": "execute_result"
    }
   ],
   "source": [
    "# create a list that has the new index variable\n",
    "cluslistval=list(clus_test['index'])\n",
    "# create a list of cluster assignments\n",
    "labelsval=list(clusassign)\n",
    "# combine index variable list with labels list into a dictionary\n",
    "newlistval=dict(zip(cluslistval, clusassign))\n",
    "newlistval\n",
    "# convert newlist dictionary to a dataframe\n",
    "newclusval=pd.DataFrame.from_dict(newlistval, orient='index')\n",
    "newclusval\n",
    "# rename the cluster assignment column\n",
    "newclusval.columns = ['cluster']\n",
    "# create a variable out of the index for the cluster assignment dataframe to merge on\n",
    "newclusval.reset_index(level=0, inplace=True)\n",
    "# merge the cluster assignment dataframe with the cluster training variable dataframe\n",
    "# by the index variable\n",
    "merged_test=pd.merge(clus_test, newclusval, on='index')\n",
    "# cluster frequencies\n",
    "merged_test.cluster.value_counts()"
   ]
  },
  {
   "cell_type": "code",
   "execution_count": 170,
   "metadata": {
    "collapsed": false
   },
   "outputs": [
    {
     "name": "stdout",
     "output_type": "stream",
     "text": [
      "Test data clustering variable means by cluster\n",
      "              index  mean_radius  mean_texture  mean_perimeter  mean_area  \\\n",
      "cluster                                                                     \n",
      "0        300.694915    -0.097880     -0.101520       -0.101051  -0.094827   \n",
      "1        272.901786     0.033933     -0.040746        0.037243   0.040615   \n",
      "\n",
      "         mean_smoothness  mean_compactness  mean_concavity  \\\n",
      "cluster                                                      \n",
      "0              -0.144956         -0.110878       -0.108869   \n",
      "1               0.170231          0.046115        0.042450   \n",
      "\n",
      "         mean_concave_points  mean_symmetry           ...             \\\n",
      "cluster                                               ...              \n",
      "0                  -0.148972      -0.065748           ...              \n",
      "1                   0.063672       0.035392           ...              \n",
      "\n",
      "         worst_radius  worst_texture  worst_perimeter  worst_area  \\\n",
      "cluster                                                             \n",
      "0           -0.087123      -0.010892        -0.075430   -0.066768   \n",
      "1            0.055431       0.002517         0.044214    0.050689   \n",
      "\n",
      "         worst_smoothness  worst_compactness  worst_concavity  \\\n",
      "cluster                                                         \n",
      "0                0.020657           0.011262         0.011762   \n",
      "1                0.222055           0.096382         0.066924   \n",
      "\n",
      "         worst_concave_points  worst_symmetry  worst_fractal_dimension  \n",
      "cluster                                                                 \n",
      "0                   -0.056980        0.032285                -0.050150  \n",
      "1                    0.059925        0.136563                 0.182342  \n",
      "\n",
      "[2 rows x 31 columns]\n"
     ]
    }
   ],
   "source": [
    "# calculate test data clustering variable means by cluster\n",
    "clustergrpval = merged_test.groupby('cluster').mean()\n",
    "print (\"Test data clustering variable means by cluster\")\n",
    "print(clustergrpval)"
   ]
  },
  {
   "cell_type": "code",
   "execution_count": null,
   "metadata": {
    "collapsed": true
   },
   "outputs": [],
   "source": []
  }
 ],
 "metadata": {
  "kernelspec": {
   "display_name": "Python 2",
   "language": "python",
   "name": "python2"
  },
  "language_info": {
   "codemirror_mode": {
    "name": "ipython",
    "version": 2
   },
   "file_extension": ".py",
   "mimetype": "text/x-python",
   "name": "python",
   "nbconvert_exporter": "python",
   "pygments_lexer": "ipython2",
   "version": "2.7.11"
  }
 },
 "nbformat": 4,
 "nbformat_minor": 0
}
