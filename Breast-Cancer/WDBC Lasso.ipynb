{
 "cells": [
  {
   "cell_type": "code",
   "execution_count": 2,
   "metadata": {
    "collapsed": false
   },
   "outputs": [],
   "source": [
    "%matplotlib inline\n",
    "import numpy as np\n",
    "import matplotlib.pyplot as plt\n",
    "from sklearn.cross_validation import train_test_split\n",
    "from sklearn.linear_model import LassoLarsCV\n",
    "from sklearn import preprocessing\n",
    "\n",
    "import urllib\n",
    "from math import sqrt\n",
    "from sklearn import tree\n",
    "import pylab as pl\n",
    "import pandas as pd\n",
    "import StringIO\n",
    "#from pydot import graph_from_dot_data as gdot\n",
    "from sklearn.externals.six import StringIO "
   ]
  },
  {
   "cell_type": "markdown",
   "metadata": {},
   "source": [
    "A lasso regression analysis was performed to identify the most relevant factors to predict the cancer type of the patients in the WDBC database. We can compare also with the results obtained using random forest on the same dataset."
   ]
  },
  {
   "cell_type": "code",
   "execution_count": 121,
   "metadata": {
    "collapsed": true
   },
   "outputs": [],
   "source": [
    "# URL for the Wisconsin Diagnostic Breast Cancer (WDBC) (UCI Machine Learning Repository)\n",
    "url = \"https://archive.ics.uci.edu/ml/machine-learning-databases/breast-cancer-wisconsin/wdbc.data\"\n",
    "# download the file\n",
    "raw_data = urllib.urlopen(url)\n",
    "# load the file as a numpy matrix\n",
    "attributes = ['id','cancer_type','mean_radius', 'mean_texture', 'mean_perimeter', 'mean_area',\n",
    "       'mean_smoothness', 'mean_compactness', 'mean_concavity',\n",
    "       'mean_concave_points', 'mean_symmetry', 'mean_fractal_dimension',\n",
    "       'radius_error', 'texture_error', 'perimeter_error', 'area_error',\n",
    "       'smoothness_error', 'compactness_error', 'concavity_error',\n",
    "       'concave_points_error', 'symmetry_error', 'fractal_dimension_error',\n",
    "       'worst_radius', 'worst_texture', 'worst_perimeter', 'worst_area',\n",
    "       'worst_smoothness', 'worst_compactness', 'worst_concavity',\n",
    "       'worst_concave_points', 'worst_symmetry', 'worst_fractal_dimension']\n",
    "bcd =  np.genfromtxt(raw_data, delimiter=',', dtype=None, names= attributes)"
   ]
  },
  {
   "cell_type": "code",
   "execution_count": 122,
   "metadata": {
    "collapsed": false
   },
   "outputs": [],
   "source": [
    "# Convert the numpy array into Pandas DataFrame\n",
    "bcdf = pd.DataFrame(data=bcd, columns=attributes)"
   ]
  },
  {
   "cell_type": "code",
   "execution_count": 123,
   "metadata": {
    "collapsed": false
   },
   "outputs": [],
   "source": [
    "#Clean the datasets\n",
    "data_clean = bcdf.dropna()"
   ]
  },
  {
   "cell_type": "code",
   "execution_count": 124,
   "metadata": {
    "collapsed": false
   },
   "outputs": [],
   "source": [
    "#Data managment\n",
    "recode1 = {\"M\":1, \"B\":0}\n",
    "data_clean['cancer_type']= data_clean['cancer_type'].map(recode1)"
   ]
  },
  {
   "cell_type": "code",
   "execution_count": 138,
   "metadata": {
    "collapsed": true
   },
   "outputs": [],
   "source": [
    "#Select predictor variables and target variable as separate data sets\n",
    "predvar = data_clean[['mean_radius', 'mean_texture', 'mean_perimeter', 'mean_area',\n",
    "       'mean_smoothness', 'mean_compactness', 'mean_concavity',\n",
    "       'mean_concave_points', 'mean_symmetry', 'mean_fractal_dimension',\n",
    "       'radius_error', 'texture_error', 'perimeter_error', 'area_error',\n",
    "       'smoothness_error', 'compactness_error', 'concavity_error',\n",
    "       'concave_points_error', 'symmetry_error', 'fractal_dimension_error',\n",
    "       'worst_radius', 'worst_texture', 'worst_perimeter', 'worst_area',\n",
    "       'worst_smoothness', 'worst_compactness', 'worst_concavity',\n",
    "       'worst_concave_points', 'worst_symmetry', 'worst_fractal_dimension']]\n",
    "target = data_clean.cancer_type"
   ]
  },
  {
   "cell_type": "code",
   "execution_count": 126,
   "metadata": {
    "collapsed": true
   },
   "outputs": [],
   "source": [
    "predictors=predvar.copy()"
   ]
  },
  {
   "cell_type": "code",
   "execution_count": 128,
   "metadata": {
    "collapsed": false
   },
   "outputs": [],
   "source": [
    "#Lambda function that standardize predictors to have mean=0 and std=1\n",
    "#predictors_new =  map(lambda w: preprocessing.scale(predictors[w].astype('float64')), predictors.columns)"
   ]
  },
  {
   "cell_type": "code",
   "execution_count": 129,
   "metadata": {
    "collapsed": false
   },
   "outputs": [],
   "source": [
    "#Standardize predictors to have mean=0 and std=1\n",
    "for l in predictors.columns:\n",
    "    predictors[l]=preprocessing.scale(predictors[l].astype('float64'))"
   ]
  },
  {
   "cell_type": "markdown",
   "metadata": {},
   "source": [
    "The dataset is randomly split into a set that includes 70% of the actual observations and a test set for the remaining 30%."
   ]
  },
  {
   "cell_type": "code",
   "execution_count": 131,
   "metadata": {
    "collapsed": true
   },
   "outputs": [],
   "source": [
    "# split data into train and test sets\n",
    "pred_train, pred_test, tar_train, tar_test = train_test_split(predictors, target,\n",
    "                                                              test_size=.3, random_state=123)"
   ]
  },
  {
   "cell_type": "markdown",
   "metadata": {},
   "source": [
    "As a predition model we use a cross-validated Lasso algorithm and, as selection model, the least-angle regression (LARS). We specify randomly 10-fold cross validation to estimate the mean squared error."
   ]
  },
  {
   "cell_type": "code",
   "execution_count": 132,
   "metadata": {
    "collapsed": false
   },
   "outputs": [
    {
     "name": "stderr",
     "output_type": "stream",
     "text": [
      "E:\\Programs\\Anaconda2\\lib\\site-packages\\sklearn\\linear_model\\least_angle.py:334: ConvergenceWarning: Early stopping the lars path, as the residues are small and the current value of alpha is no longer well controlled. 41 iterations, alpha=5.997e-05, previous alpha=1.402e-05, with an active set of 26 regressors.\n",
      "  ConvergenceWarning)\n",
      "E:\\Programs\\Anaconda2\\lib\\site-packages\\sklearn\\linear_model\\least_angle.py:334: ConvergenceWarning: Early stopping the lars path, as the residues are small and the current value of alpha is no longer well controlled. 45 iterations, alpha=3.677e-04, previous alpha=1.093e-05, with an active set of 28 regressors.\n",
      "  ConvergenceWarning)\n",
      "E:\\Programs\\Anaconda2\\lib\\site-packages\\sklearn\\linear_model\\least_angle.py:334: ConvergenceWarning: Early stopping the lars path, as the residues are small and the current value of alpha is no longer well controlled. 45 iterations, alpha=1.481e-03, previous alpha=5.634e-06, with an active set of 28 regressors.\n",
      "  ConvergenceWarning)\n",
      "E:\\Programs\\Anaconda2\\lib\\site-packages\\sklearn\\linear_model\\least_angle.py:334: ConvergenceWarning: Early stopping the lars path, as the residues are small and the current value of alpha is no longer well controlled. 35 iterations, alpha=3.623e-03, previous alpha=2.018e-05, with an active set of 26 regressors.\n",
      "  ConvergenceWarning)\n",
      "E:\\Programs\\Anaconda2\\lib\\site-packages\\sklearn\\linear_model\\least_angle.py:334: ConvergenceWarning: Early stopping the lars path, as the residues are small and the current value of alpha is no longer well controlled. 41 iterations, alpha=5.269e-05, previous alpha=1.037e-05, with an active set of 26 regressors.\n",
      "  ConvergenceWarning)\n",
      "E:\\Programs\\Anaconda2\\lib\\site-packages\\sklearn\\linear_model\\least_angle.py:334: ConvergenceWarning: Early stopping the lars path, as the residues are small and the current value of alpha is no longer well controlled. 36 iterations, alpha=4.814e-03, previous alpha=1.231e-05, with an active set of 29 regressors.\n",
      "  ConvergenceWarning)\n",
      "E:\\Programs\\Anaconda2\\lib\\site-packages\\sklearn\\linear_model\\least_angle.py:334: ConvergenceWarning: Early stopping the lars path, as the residues are small and the current value of alpha is no longer well controlled. 46 iterations, alpha=1.369e-03, previous alpha=3.405e-06, with an active set of 29 regressors.\n",
      "  ConvergenceWarning)\n"
     ]
    }
   ],
   "source": [
    "# specify the lasso regression model\n",
    "model=LassoLarsCV(cv=10, precompute=False).fit(pred_train,tar_train)"
   ]
  },
  {
   "cell_type": "code",
   "execution_count": 143,
   "metadata": {
    "collapsed": false
   },
   "outputs": [
    {
     "data": {
      "text/plain": [
       "{'area_error': -0.14788698323445656,\n",
       " 'compactness_error': -0.036684572404633964,\n",
       " 'concave_points_error': 0.024168121102955999,\n",
       " 'concavity_error': -0.039841808790681277,\n",
       " 'fractal_dimension_error': 0.0,\n",
       " 'mean_area': 0.0,\n",
       " 'mean_compactness': -0.029388638617078373,\n",
       " 'mean_concave_points': 0.028080148318659834,\n",
       " 'mean_concavity': 0.0,\n",
       " 'mean_fractal_dimension': -0.034092993084696127,\n",
       " 'mean_perimeter': 0.0,\n",
       " 'mean_radius': 0.093785303277274745,\n",
       " 'mean_smoothness': 0.0,\n",
       " 'mean_symmetry': 0.0,\n",
       " 'mean_texture': 0.022637126827911986,\n",
       " 'perimeter_error': 0.0,\n",
       " 'radius_error': 0.16058785410963394,\n",
       " 'smoothness_error': 0.052762200245857628,\n",
       " 'symmetry_error': 0.0,\n",
       " 'texture_error': -0.0080585571610396721,\n",
       " 'worst_area': 0.0,\n",
       " 'worst_compactness': 0.0,\n",
       " 'worst_concave_points': 0.14787892983928591,\n",
       " 'worst_concavity': 0.042293357418766497,\n",
       " 'worst_fractal_dimension': 0.047300581217709865,\n",
       " 'worst_perimeter': 0.0,\n",
       " 'worst_radius': 0.1001488995084832,\n",
       " 'worst_smoothness': 0.0,\n",
       " 'worst_symmetry': 0.048201802756710523,\n",
       " 'worst_texture': 0.056285460503435296}"
      ]
     },
     "execution_count": 143,
     "metadata": {},
     "output_type": "execute_result"
    }
   ],
   "source": [
    "# print variable names and regression coefficients\n",
    "dict(zip(predictors.columns, model.coef_))"
   ]
  },
  {
   "cell_type": "markdown",
   "metadata": {},
   "source": [
    "The 'worst_texture' feature has the major impact on the predictive model followed by the 'smoothness_error' (positive association with malignant cancer), these two variables do not appear in the first positions for the Random Forest model tha we have generated in the previous notebook. Several coefficients have shrunken to zero signifying that the respective variables are not included in the final predition model. "
   ]
  },
  {
   "cell_type": "markdown",
   "metadata": {},
   "source": [
    "We can now plot the progression of the coefficients and when they enter in the model, and we can see how 'worst_texture' is the first one appearing in our plot at step one."
   ]
  },
  {
   "cell_type": "code",
   "execution_count": 134,
   "metadata": {
    "collapsed": false
   },
   "outputs": [
    {
     "data": {
      "text/plain": [
       "<matplotlib.text.Text at 0xb7925f8>"
      ]
     },
     "execution_count": 134,
     "metadata": {},
     "output_type": "execute_result"
    },
    {
     "data": {
      "image/png": "[encoded data removed]",
      "text/plain": [
       "<matplotlib.figure.Figure at 0xb4fdeb8>"
      ]
     },
     "metadata": {},
     "output_type": "display_data"
    }
   ],
   "source": [
    "m_log_alphas = -np.log10(model.alphas_)\n",
    "ax = plt.gca()\n",
    "plt.plot(m_log_alphas, model.coef_path_.T)\n",
    "plt.axvline(-np.log10(model.alpha_), linestyle='--', color='k',\n",
    "            label='alpha CV')\n",
    "plt.ylabel('Regression Coefficients')\n",
    "plt.xlabel('-log(alpha)')\n",
    "plt.title('Regression Coefficients Progression for Lasso Paths')"
   ]
  },
  {
   "cell_type": "markdown",
   "metadata": {},
   "source": [
    "Similarly, we compute the change in the validation mean square error at each step."
   ]
  },
  {
   "cell_type": "code",
   "execution_count": 146,
   "metadata": {
    "collapsed": false
   },
   "outputs": [
    {
     "data": {
      "text/plain": [
       "<matplotlib.text.Text at 0xc012f28>"
      ]
     },
     "execution_count": 146,
     "metadata": {},
     "output_type": "execute_result"
    },
    {
     "data": {
      "image/png": "[encoded data removed]",
      "text/plain": [
       "<matplotlib.figure.Figure at 0xbcf5978>"
      ]
     },
     "metadata": {},
     "output_type": "display_data"
    }
   ],
   "source": [
    "# plot mean square error for each fold\n",
    "m_log_alphascv = -np.log10(model.cv_alphas_)\n",
    "plt.figure()\n",
    "plt.plot(m_log_alphascv, model.cv_mse_path_, ':')\n",
    "plt.plot(m_log_alphascv, model.cv_mse_path_.mean(axis=-1), 'k',\n",
    "         label='Average across the folds', linewidth=2)\n",
    "plt.axvline(-np.log10(model.alpha_), linestyle='--', color='k',\n",
    "            label='alpha CV')\n",
    "plt.legend()\n",
    "plt.xlabel('-log(alpha)')\n",
    "plt.ylabel('Mean squared error')\n",
    "plt.title('Mean squared error on each fold')"
   ]
  },
  {
   "cell_type": "markdown",
   "metadata": {},
   "source": [
    "Finally we estimate the errors of our model on the test and training dataset."
   ]
  },
  {
   "cell_type": "code",
   "execution_count": 136,
   "metadata": {
    "collapsed": false
   },
   "outputs": [
    {
     "name": "stdout",
     "output_type": "stream",
     "text": [
      "training data MSE\n",
      "0.0566758278413\n",
      "test data MSE\n",
      "0.0593187926921\n"
     ]
    }
   ],
   "source": [
    "# MSE from training and test data\n",
    "from sklearn.metrics import mean_squared_error\n",
    "train_error = mean_squared_error(tar_train, model.predict(pred_train))\n",
    "test_error = mean_squared_error(tar_test, model.predict(pred_test))\n",
    "print ('training data MSE')\n",
    "print(train_error)\n",
    "print ('test data MSE')\n",
    "print(test_error)"
   ]
  },
  {
   "cell_type": "code",
   "execution_count": 137,
   "metadata": {
    "collapsed": false
   },
   "outputs": [
    {
     "name": "stdout",
     "output_type": "stream",
     "text": [
      "training data R-square\n",
      "0.754547303331\n",
      "test data R-square\n",
      "0.752349969002\n"
     ]
    }
   ],
   "source": [
    "# R-square from training and test data\n",
    "rsquared_train=model.score(pred_train,tar_train)\n",
    "rsquared_test=model.score(pred_test,tar_test)\n",
    "print ('training data R-square')\n",
    "print(rsquared_train)\n",
    "print ('test data R-square')\n",
    "print(rsquared_test)"
   ]
  },
  {
   "cell_type": "code",
   "execution_count": null,
   "metadata": {
    "collapsed": true
   },
   "outputs": [],
   "source": []
  }
 ],
 "metadata": {
  "kernelspec": {
   "display_name": "Python 2",
   "language": "python",
   "name": "python2"
  },
  "language_info": {
   "codemirror_mode": {
    "name": "ipython",
    "version": 2
   },
   "file_extension": ".py",
   "mimetype": "text/x-python",
   "name": "python",
   "nbconvert_exporter": "python",
   "pygments_lexer": "ipython2",
   "version": "2.7.11"
  }
 },
 "nbformat": 4,
 "nbformat_minor": 0
}
